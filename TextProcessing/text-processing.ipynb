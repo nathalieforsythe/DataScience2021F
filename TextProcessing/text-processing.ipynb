{
 "cells": [
  {
   "cell_type": "markdown",
   "id": "d7c8d61d",
   "metadata": {},
   "source": [
    "# Text Processing Project\n",
    "Frankenstein by Mary Shelley"
   ]
  },
  {
   "cell_type": "code",
   "execution_count": 59,
   "id": "614aa530",
   "metadata": {
    "scrolled": true
   },
   "outputs": [
    {
     "data": {
      "text/plain": [
       "str"
      ]
     },
     "execution_count": 59,
     "metadata": {},
     "output_type": "execute_result"
    }
   ],
   "source": [
    "with open ('Frankenstein.txt', 'r') as file:\n",
    "    text = file.read().replace('\\n', ' ')\n",
    "type(text)\n",
    "# text"
   ]
  },
  {
   "cell_type": "code",
   "execution_count": 60,
   "id": "212e7ee5",
   "metadata": {},
   "outputs": [],
   "source": [
    "# https://stackoverflow.com/questions/265960/best-way-to-strip-punctuation-from-a-string\n",
    "import string\n",
    "text = text.translate(str.maketrans('', '', string.punctuation)) # leaves \" — '\n",
    "# text"
   ]
  },
  {
   "cell_type": "code",
   "execution_count": 61,
   "id": "70a93caf",
   "metadata": {},
   "outputs": [
    {
     "data": {
      "text/plain": [
       "list"
      ]
     },
     "execution_count": 61,
     "metadata": {},
     "output_type": "execute_result"
    }
   ],
   "source": [
    "text = text.split()\n",
    "type(text)\n",
    "# text"
   ]
  },
  {
   "cell_type": "code",
   "execution_count": null,
   "id": "8e1e5eab",
   "metadata": {},
   "outputs": [],
   "source": []
  }
 ],
 "metadata": {
  "kernelspec": {
   "display_name": "Python 3",
   "language": "python",
   "name": "python3"
  },
  "language_info": {
   "codemirror_mode": {
    "name": "ipython",
    "version": 3
   },
   "file_extension": ".py",
   "mimetype": "text/x-python",
   "name": "python",
   "nbconvert_exporter": "python",
   "pygments_lexer": "ipython3",
   "version": "3.8.8"
  }
 },
 "nbformat": 4,
 "nbformat_minor": 5
}
