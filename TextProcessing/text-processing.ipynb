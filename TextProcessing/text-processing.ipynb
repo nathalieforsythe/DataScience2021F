{
 "cells": [
  {
   "cell_type": "markdown",
   "id": "d7c8d61d",
   "metadata": {},
   "source": [
    "# Text Processing Project\n",
    "Frankenstein by Mary Shelley"
   ]
  },
  {
   "cell_type": "markdown",
   "id": "947406e2",
   "metadata": {},
   "source": [
    "### Step 1\n",
    "Download text and replace new lines with a space"
   ]
  },
  {
   "cell_type": "code",
   "execution_count": 157,
   "id": "614aa530",
   "metadata": {
    "scrolled": true
   },
   "outputs": [],
   "source": [
    "with open ('Frankenstein.txt', 'r') as file:\n",
    "    text = file.read().replace('\\n', ' ')\n",
    "# text\n",
    "# remove letter/chapter? "
   ]
  },
  {
   "cell_type": "markdown",
   "id": "d7943bfb",
   "metadata": {},
   "source": [
    "### Step 2\n",
    "Strip the punctuation and make all words lowercase to prevent words being counted more than once"
   ]
  },
  {
   "cell_type": "code",
   "execution_count": 158,
   "id": "212e7ee5",
   "metadata": {},
   "outputs": [],
   "source": [
    "# https://stackoverflow.com/questions/265960/best-way-to-strip-punctuation-from-a-string\n",
    "import string\n",
    "text_nopunct = text.translate(str.maketrans('', '', string.punctuation)).lower() # leaves \" — '\n",
    "text_nopunct = text_nopunct.replace('—', ' ')\n",
    "text_nopunct = text_nopunct.replace('“', '')\n",
    "text_nopunct = text_nopunct.replace('”', '')\n",
    "# text_nopunct"
   ]
  },
  {
   "cell_type": "markdown",
   "id": "ce1246f7",
   "metadata": {},
   "source": [
    "### Step 3\n",
    "Split the string on spaces to create a list of words"
   ]
  },
  {
   "cell_type": "code",
   "execution_count": 159,
   "id": "70a93caf",
   "metadata": {},
   "outputs": [],
   "source": [
    "text_list = text_nopunct.split()\n",
    "# text_list"
   ]
  },
  {
   "cell_type": "markdown",
   "id": "01ae778e",
   "metadata": {},
   "source": [
    "### Step 4\n",
    "Create a set of words from the list to have only unique words"
   ]
  },
  {
   "cell_type": "code",
   "execution_count": 160,
   "id": "9ef66b74",
   "metadata": {},
   "outputs": [
    {
     "data": {
      "text/plain": [
       "7183"
      ]
     },
     "execution_count": 160,
     "metadata": {},
     "output_type": "execute_result"
    }
   ],
   "source": [
    "unique_words = set(text_list)\n",
    "# unique_words\n",
    "len(unique_words) # 7183"
   ]
  },
  {
   "cell_type": "markdown",
   "id": "7c2a4e61",
   "metadata": {},
   "source": [
    "### Step 5\n",
    "Create a dictionary of keys with empty lists to use later for all following words"
   ]
  },
  {
   "cell_type": "code",
   "execution_count": 162,
   "id": "dd00466c",
   "metadata": {},
   "outputs": [],
   "source": [
    "# https://www.geeksforgeeks.org/python-initializing-dictionary-with-empty-lists/\n",
    "next_words = {word: [] for word in unique_words}\n",
    "# next_words"
   ]
  },
  {
   "cell_type": "markdown",
   "id": "59c412ff",
   "metadata": {},
   "source": [
    "### Step 6\n",
    "Define a function that finds all of the words following a given word from the text"
   ]
  },
  {
   "cell_type": "code",
   "execution_count": 151,
   "id": "df4b0869",
   "metadata": {},
   "outputs": [],
   "source": [
    "def get_next_word (word):\n",
    "    new_list = []\n",
    "    for i in range (len(text_list) - 1):\n",
    "        if text_list[i] == word: \n",
    "            new_list.append(text_list[i + 1])\n",
    "    return new_list"
   ]
  },
  {
   "cell_type": "markdown",
   "id": "08a10507",
   "metadata": {},
   "source": [
    "### Step 7\n"
   ]
  },
  {
   "cell_type": "code",
   "execution_count": 156,
   "id": "378c9817",
   "metadata": {},
   "outputs": [
    {
     "data": {
      "text/plain": [
       "['his',\n",
       " 'in',\n",
       " 'destroyed',\n",
       " 'bestowed',\n",
       " 'who',\n",
       " 'open',\n",
       " 'whom',\n",
       " 'in',\n",
       " 'who',\n",
       " 'capable',\n",
       " 'about',\n",
       " 'capable',\n",
       " 'who',\n",
       " 'unfit',\n",
       " 'to',\n",
       " 'and',\n",
       " 'i',\n",
       " 'who',\n",
       " 'oh',\n",
       " 'were',\n",
       " 'with',\n",
       " 'leaving',\n",
       " 'happy',\n",
       " 'i',\n",
       " 'was',\n",
       " 'of',\n",
       " 'of',\n",
       " 'who',\n",
       " 'i',\n",
       " 'who',\n",
       " 'on',\n",
       " 'whom',\n",
       " 'he',\n",
       " 'i',\n",
       " 'on',\n",
       " 'had',\n",
       " 'of',\n",
       " 'must',\n",
       " 'and',\n",
       " 'he',\n",
       " 'whose']"
      ]
     },
     "execution_count": 156,
     "metadata": {},
     "output_type": "execute_result"
    }
   ],
   "source": [
    "get_next_word('creature')\n",
    "# loop through every word in unique_words to create lists, add to next_words"
   ]
  }
 ],
 "metadata": {
  "kernelspec": {
   "display_name": "Python 3",
   "language": "python",
   "name": "python3"
  },
  "language_info": {
   "codemirror_mode": {
    "name": "ipython",
    "version": 3
   },
   "file_extension": ".py",
   "mimetype": "text/x-python",
   "name": "python",
   "nbconvert_exporter": "python",
   "pygments_lexer": "ipython3",
   "version": "3.8.8"
  }
 },
 "nbformat": 4,
 "nbformat_minor": 5
}
