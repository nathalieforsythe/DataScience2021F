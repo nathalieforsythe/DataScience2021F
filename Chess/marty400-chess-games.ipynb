{
 "cells": [
  {
   "cell_type": "code",
   "execution_count": 65,
   "id": "b80810ab",
   "metadata": {},
   "outputs": [
    {
     "data": {
      "text/plain": [
       "['https://api.chess.com/pub/player/marty400/games/2020/10',\n",
       " 'https://api.chess.com/pub/player/marty400/games/2020/11',\n",
       " 'https://api.chess.com/pub/player/marty400/games/2020/12',\n",
       " 'https://api.chess.com/pub/player/marty400/games/2021/01',\n",
       " 'https://api.chess.com/pub/player/marty400/games/2021/02',\n",
       " 'https://api.chess.com/pub/player/marty400/games/2021/10',\n",
       " 'https://api.chess.com/pub/player/marty400/games/2021/11',\n",
       " 'https://api.chess.com/pub/player/marty400/games/2021/12']"
      ]
     },
     "execution_count": 65,
     "metadata": {},
     "output_type": "execute_result"
    }
   ],
   "source": [
    "import requests\n",
    "import json\n",
    "from pathlib import Path\n",
    "import os\n",
    "\n",
    "username = 'marty400'\n",
    "result = requests.get('https://api.chess.com/pub/player/marty400/games/archives').json()\n",
    "archives = result['archives']\n",
    "archives"
   ]
  },
  {
   "cell_type": "code",
   "execution_count": 67,
   "id": "f272d0f1",
   "metadata": {},
   "outputs": [],
   "source": [
    "game_dir = f'./game-data-{username}/'\n",
    "Path(game_dir).mkdir(parents=True, exist_ok=True)"
   ]
  },
  {
   "cell_type": "code",
   "execution_count": 70,
   "id": "0c1c15e3",
   "metadata": {
    "scrolled": false
   },
   "outputs": [],
   "source": [
    "month_label = 1\n",
    "for month_link in archives:\n",
    "    month_games = requests.get(month_link).json()\n",
    "    with open(game_dir + \"month\" + str(month_label), \"w+\", encoding = \"utf-8\") as f: \n",
    "        json.dump(month_games, f, ensure_ascii=False, indent=4)\n",
    "    month_label = month_label + 1"
   ]
  }
 ],
 "metadata": {
  "kernelspec": {
   "display_name": "Python 3",
   "language": "python",
   "name": "python3"
  },
  "language_info": {
   "codemirror_mode": {
    "name": "ipython",
    "version": 3
   },
   "file_extension": ".py",
   "mimetype": "text/x-python",
   "name": "python",
   "nbconvert_exporter": "python",
   "pygments_lexer": "ipython3",
   "version": "3.8.8"
  }
 },
 "nbformat": 4,
 "nbformat_minor": 5
}
