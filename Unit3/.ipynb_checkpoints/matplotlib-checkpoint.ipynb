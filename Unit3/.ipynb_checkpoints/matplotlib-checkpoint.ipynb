{
 "cells": [
  {
   "cell_type": "code",
   "execution_count": 5,
   "id": "ebc88d14",
   "metadata": {},
   "outputs": [
    {
     "data": {
      "text/html": [
       "<div>\n",
       "<style scoped>\n",
       "    .dataframe tbody tr th:only-of-type {\n",
       "        vertical-align: middle;\n",
       "    }\n",
       "\n",
       "    .dataframe tbody tr th {\n",
       "        vertical-align: top;\n",
       "    }\n",
       "\n",
       "    .dataframe thead th {\n",
       "        text-align: right;\n",
       "    }\n",
       "</style>\n",
       "<table border=\"1\" class=\"dataframe\">\n",
       "  <thead>\n",
       "    <tr style=\"text-align: right;\">\n",
       "      <th></th>\n",
       "      <th>Name</th>\n",
       "      <th>Height</th>\n",
       "      <th>GPA</th>\n",
       "      <th>Friends</th>\n",
       "      <th>Sport</th>\n",
       "      <th>Shoes</th>\n",
       "    </tr>\n",
       "  </thead>\n",
       "  <tbody>\n",
       "    <tr>\n",
       "      <th>0</th>\n",
       "      <td>Dakota</td>\n",
       "      <td>72</td>\n",
       "      <td>3.15</td>\n",
       "      <td>307</td>\n",
       "      <td>basketball</td>\n",
       "      <td>sneakers</td>\n",
       "    </tr>\n",
       "    <tr>\n",
       "      <th>1</th>\n",
       "      <td>Hayden</td>\n",
       "      <td>68</td>\n",
       "      <td>3.50</td>\n",
       "      <td>335</td>\n",
       "      <td>tennis</td>\n",
       "      <td>flip flops</td>\n",
       "    </tr>\n",
       "    <tr>\n",
       "      <th>2</th>\n",
       "      <td>Charlie</td>\n",
       "      <td>61</td>\n",
       "      <td>1.10</td>\n",
       "      <td>34</td>\n",
       "      <td>baseball</td>\n",
       "      <td>flip flops</td>\n",
       "    </tr>\n",
       "    <tr>\n",
       "      <th>3</th>\n",
       "      <td>Kamryn</td>\n",
       "      <td>66</td>\n",
       "      <td>2.18</td>\n",
       "      <td>200</td>\n",
       "      <td>soccer</td>\n",
       "      <td>sneakers</td>\n",
       "    </tr>\n",
       "    <tr>\n",
       "      <th>4</th>\n",
       "      <td>Emerson</td>\n",
       "      <td>65</td>\n",
       "      <td>3.06</td>\n",
       "      <td>213</td>\n",
       "      <td>soccer</td>\n",
       "      <td>sneakers</td>\n",
       "    </tr>\n",
       "    <tr>\n",
       "      <th>5</th>\n",
       "      <td>Jessie</td>\n",
       "      <td>61</td>\n",
       "      <td>2.41</td>\n",
       "      <td>202</td>\n",
       "      <td>basketball</td>\n",
       "      <td>flip flops</td>\n",
       "    </tr>\n",
       "    <tr>\n",
       "      <th>6</th>\n",
       "      <td>Sawyer</td>\n",
       "      <td>67</td>\n",
       "      <td>2.96</td>\n",
       "      <td>314</td>\n",
       "      <td>tennis</td>\n",
       "      <td>flip flops</td>\n",
       "    </tr>\n",
       "    <tr>\n",
       "      <th>7</th>\n",
       "      <td>London</td>\n",
       "      <td>64</td>\n",
       "      <td>3.98</td>\n",
       "      <td>436</td>\n",
       "      <td>soccer</td>\n",
       "      <td>sneakers</td>\n",
       "    </tr>\n",
       "  </tbody>\n",
       "</table>\n",
       "</div>"
      ],
      "text/plain": [
       "      Name  Height   GPA  Friends       Sport       Shoes\n",
       "0   Dakota      72  3.15      307  basketball    sneakers\n",
       "1   Hayden      68  3.50      335      tennis  flip flops\n",
       "2  Charlie      61  1.10       34    baseball  flip flops\n",
       "3   Kamryn      66  2.18      200      soccer    sneakers\n",
       "4  Emerson      65  3.06      213      soccer    sneakers\n",
       "5   Jessie      61  2.41      202  basketball  flip flops\n",
       "6   Sawyer      67  2.96      314      tennis  flip flops\n",
       "7   London      64  3.98      436      soccer    sneakers"
      ]
     },
     "execution_count": 5,
     "metadata": {},
     "output_type": "execute_result"
    }
   ],
   "source": [
    "from shutil import copyfile\n",
    "copyfile('../unit2/people.csv', 'people.csv')\n",
    "from matplotlib import pyplot as plt\n",
    "import pandas as pd\n",
    "\n",
    "people = pd.read_csv('people.csv')\n",
    "people = pd.DataFrame(people)\n",
    "people"
   ]
  },
  {
   "cell_type": "code",
   "execution_count": 9,
   "id": "9adb35a3",
   "metadata": {},
   "outputs": [
    {
     "data": {
      "image/png": "[encoded data removed]",
      "text/plain": [
       "<Figure size 432x288 with 1 Axes>"
      ]
     },
     "metadata": {
      "needs_background": "light"
     },
     "output_type": "display_data"
    }
   ],
   "source": [
    "plt.scatter(people['GPA'], people['Friends'])\n",
    "plt.grid()\n",
    "plt.xlabel('GPA')\n",
    "plt.ylabel('number of friends')\n",
    "plt.show()"
   ]
  },
  {
   "cell_type": "code",
   "execution_count": 14,
   "id": "976eb6d9",
   "metadata": {},
   "outputs": [
    {
     "data": {
      "image/png": "[encoded data removed]",
      "text/plain": [
       "<Figure size 432x288 with 1 Axes>"
      ]
     },
     "metadata": {
      "needs_background": "light"
     },
     "output_type": "display_data"
    }
   ],
   "source": [
    "import numpy as np\n",
    "\n",
    "xpoints = np.array([1.10, 3.98])\n",
    "ypoints = np.array([34, 436])\n",
    "\n",
    "plt.scatter(people['GPA'], people['Friends'])\n",
    "\n",
    "plt.plot(xpoints, ypoints, 'red')\n",
    "\n",
    "plt.grid()\n",
    "\n",
    "plt.xlabel('GPA')\n",
    "plt.ylabel('number of friends')\n",
    "\n",
    "plt.show()"
   ]
  },
  {
   "cell_type": "code",
   "execution_count": 16,
   "id": "94a3141d",
   "metadata": {},
   "outputs": [
    {
     "data": {
      "text/html": [
       "<div>\n",
       "<style scoped>\n",
       "    .dataframe tbody tr th:only-of-type {\n",
       "        vertical-align: middle;\n",
       "    }\n",
       "\n",
       "    .dataframe tbody tr th {\n",
       "        vertical-align: top;\n",
       "    }\n",
       "\n",
       "    .dataframe thead th {\n",
       "        text-align: right;\n",
       "    }\n",
       "</style>\n",
       "<table border=\"1\" class=\"dataframe\">\n",
       "  <thead>\n",
       "    <tr style=\"text-align: right;\">\n",
       "      <th></th>\n",
       "      <th>Height</th>\n",
       "      <th>GPA</th>\n",
       "      <th>Friends</th>\n",
       "    </tr>\n",
       "  </thead>\n",
       "  <tbody>\n",
       "    <tr>\n",
       "      <th>Height</th>\n",
       "      <td>1.000000</td>\n",
       "      <td>0.502907</td>\n",
       "      <td>0.511286</td>\n",
       "    </tr>\n",
       "    <tr>\n",
       "      <th>GPA</th>\n",
       "      <td>0.502907</td>\n",
       "      <td>1.000000</td>\n",
       "      <td>0.955895</td>\n",
       "    </tr>\n",
       "    <tr>\n",
       "      <th>Friends</th>\n",
       "      <td>0.511286</td>\n",
       "      <td>0.955895</td>\n",
       "      <td>1.000000</td>\n",
       "    </tr>\n",
       "  </tbody>\n",
       "</table>\n",
       "</div>"
      ],
      "text/plain": [
       "           Height       GPA   Friends\n",
       "Height   1.000000  0.502907  0.511286\n",
       "GPA      0.502907  1.000000  0.955895\n",
       "Friends  0.511286  0.955895  1.000000"
      ]
     },
     "execution_count": 16,
     "metadata": {},
     "output_type": "execute_result"
    }
   ],
   "source": [
    "people.corr()"
   ]
  },
  {
   "cell_type": "code",
   "execution_count": null,
   "id": "c00e62ef",
   "metadata": {},
   "outputs": [],
   "source": []
  }
 ],
 "metadata": {
  "kernelspec": {
   "display_name": "Python 3",
   "language": "python",
   "name": "python3"
  },
  "language_info": {
   "codemirror_mode": {
    "name": "ipython",
    "version": 3
   },
   "file_extension": ".py",
   "mimetype": "text/x-python",
   "name": "python",
   "nbconvert_exporter": "python",
   "pygments_lexer": "ipython3",
   "version": "3.8.8"
  }
 },
 "nbformat": 4,
 "nbformat_minor": 5
}
