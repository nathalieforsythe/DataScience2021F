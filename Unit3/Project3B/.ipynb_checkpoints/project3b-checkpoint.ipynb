{
 "cells": [
  {
   "cell_type": "markdown",
   "id": "3e9d45f0",
   "metadata": {},
   "source": [
    "# Age of People in Congress"
   ]
  },
  {
   "cell_type": "markdown",
   "id": "af602235",
   "metadata": {},
   "source": [
    "Downloads libraries and data and creates dataframe"
   ]
  },
  {
   "cell_type": "code",
   "execution_count": 1,
   "id": "24a0783a",
   "metadata": {},
   "outputs": [],
   "source": [
    "import pandas as pd\n",
    "import matplotlib.pyplot as plt\n",
    "import seaborn as sns"
   ]
  },
  {
   "cell_type": "code",
   "execution_count": 2,
   "id": "366b7174",
   "metadata": {},
   "outputs": [
    {
     "data": {
      "text/html": [
       "<div>\n",
       "<style scoped>\n",
       "    .dataframe tbody tr th:only-of-type {\n",
       "        vertical-align: middle;\n",
       "    }\n",
       "\n",
       "    .dataframe tbody tr th {\n",
       "        vertical-align: top;\n",
       "    }\n",
       "\n",
       "    .dataframe thead th {\n",
       "        text-align: right;\n",
       "    }\n",
       "</style>\n",
       "<table border=\"1\" class=\"dataframe\">\n",
       "  <thead>\n",
       "    <tr style=\"text-align: right;\">\n",
       "      <th></th>\n",
       "      <th>congress</th>\n",
       "      <th>chamber</th>\n",
       "      <th>bioguide</th>\n",
       "      <th>firstname</th>\n",
       "      <th>middlename</th>\n",
       "      <th>lastname</th>\n",
       "      <th>suffix</th>\n",
       "      <th>birthday</th>\n",
       "      <th>state</th>\n",
       "      <th>party</th>\n",
       "      <th>incumbent</th>\n",
       "      <th>termstart</th>\n",
       "      <th>age</th>\n",
       "    </tr>\n",
       "  </thead>\n",
       "  <tbody>\n",
       "    <tr>\n",
       "      <th>0</th>\n",
       "      <td>80</td>\n",
       "      <td>house</td>\n",
       "      <td>M000112</td>\n",
       "      <td>Joseph</td>\n",
       "      <td>Jefferson</td>\n",
       "      <td>Mansfield</td>\n",
       "      <td>NaN</td>\n",
       "      <td>1861-02-09</td>\n",
       "      <td>TX</td>\n",
       "      <td>D</td>\n",
       "      <td>Yes</td>\n",
       "      <td>1947-01-03</td>\n",
       "      <td>85.9</td>\n",
       "    </tr>\n",
       "    <tr>\n",
       "      <th>1</th>\n",
       "      <td>80</td>\n",
       "      <td>house</td>\n",
       "      <td>D000448</td>\n",
       "      <td>Robert</td>\n",
       "      <td>Lee</td>\n",
       "      <td>Doughton</td>\n",
       "      <td>NaN</td>\n",
       "      <td>1863-11-07</td>\n",
       "      <td>NC</td>\n",
       "      <td>D</td>\n",
       "      <td>Yes</td>\n",
       "      <td>1947-01-03</td>\n",
       "      <td>83.2</td>\n",
       "    </tr>\n",
       "    <tr>\n",
       "      <th>2</th>\n",
       "      <td>80</td>\n",
       "      <td>house</td>\n",
       "      <td>S000001</td>\n",
       "      <td>Adolph</td>\n",
       "      <td>Joachim</td>\n",
       "      <td>Sabath</td>\n",
       "      <td>NaN</td>\n",
       "      <td>1866-04-04</td>\n",
       "      <td>IL</td>\n",
       "      <td>D</td>\n",
       "      <td>Yes</td>\n",
       "      <td>1947-01-03</td>\n",
       "      <td>80.7</td>\n",
       "    </tr>\n",
       "    <tr>\n",
       "      <th>3</th>\n",
       "      <td>80</td>\n",
       "      <td>house</td>\n",
       "      <td>E000023</td>\n",
       "      <td>Charles</td>\n",
       "      <td>Aubrey</td>\n",
       "      <td>Eaton</td>\n",
       "      <td>NaN</td>\n",
       "      <td>1868-03-29</td>\n",
       "      <td>NJ</td>\n",
       "      <td>R</td>\n",
       "      <td>Yes</td>\n",
       "      <td>1947-01-03</td>\n",
       "      <td>78.8</td>\n",
       "    </tr>\n",
       "    <tr>\n",
       "      <th>4</th>\n",
       "      <td>80</td>\n",
       "      <td>house</td>\n",
       "      <td>L000296</td>\n",
       "      <td>William</td>\n",
       "      <td>NaN</td>\n",
       "      <td>Lewis</td>\n",
       "      <td>NaN</td>\n",
       "      <td>1868-09-22</td>\n",
       "      <td>KY</td>\n",
       "      <td>R</td>\n",
       "      <td>No</td>\n",
       "      <td>1947-01-03</td>\n",
       "      <td>78.3</td>\n",
       "    </tr>\n",
       "    <tr>\n",
       "      <th>...</th>\n",
       "      <td>...</td>\n",
       "      <td>...</td>\n",
       "      <td>...</td>\n",
       "      <td>...</td>\n",
       "      <td>...</td>\n",
       "      <td>...</td>\n",
       "      <td>...</td>\n",
       "      <td>...</td>\n",
       "      <td>...</td>\n",
       "      <td>...</td>\n",
       "      <td>...</td>\n",
       "      <td>...</td>\n",
       "      <td>...</td>\n",
       "    </tr>\n",
       "    <tr>\n",
       "      <th>18630</th>\n",
       "      <td>113</td>\n",
       "      <td>senate</td>\n",
       "      <td>B000243</td>\n",
       "      <td>Max</td>\n",
       "      <td>S.</td>\n",
       "      <td>Baucus</td>\n",
       "      <td>NaN</td>\n",
       "      <td>1937-12-10</td>\n",
       "      <td>MT</td>\n",
       "      <td>D</td>\n",
       "      <td>Yes</td>\n",
       "      <td>2013-01-03</td>\n",
       "      <td>75.1</td>\n",
       "    </tr>\n",
       "    <tr>\n",
       "      <th>18631</th>\n",
       "      <td>113</td>\n",
       "      <td>senate</td>\n",
       "      <td>C001099</td>\n",
       "      <td>William</td>\n",
       "      <td>NaN</td>\n",
       "      <td>Cowan</td>\n",
       "      <td>NaN</td>\n",
       "      <td>1965-04-03</td>\n",
       "      <td>MA</td>\n",
       "      <td>D</td>\n",
       "      <td>No</td>\n",
       "      <td>2013-01-03</td>\n",
       "      <td>47.8</td>\n",
       "    </tr>\n",
       "    <tr>\n",
       "      <th>18632</th>\n",
       "      <td>113</td>\n",
       "      <td>senate</td>\n",
       "      <td>C001100</td>\n",
       "      <td>Jeffrey</td>\n",
       "      <td>Scott</td>\n",
       "      <td>Chiesa</td>\n",
       "      <td>NaN</td>\n",
       "      <td>1961-06-21</td>\n",
       "      <td>NJ</td>\n",
       "      <td>R</td>\n",
       "      <td>No</td>\n",
       "      <td>2013-01-03</td>\n",
       "      <td>51.5</td>\n",
       "    </tr>\n",
       "    <tr>\n",
       "      <th>18633</th>\n",
       "      <td>113</td>\n",
       "      <td>senate</td>\n",
       "      <td>K000148</td>\n",
       "      <td>John</td>\n",
       "      <td>Forbes</td>\n",
       "      <td>Kerry</td>\n",
       "      <td>NaN</td>\n",
       "      <td>1939-12-10</td>\n",
       "      <td>MA</td>\n",
       "      <td>D</td>\n",
       "      <td>Yes</td>\n",
       "      <td>2013-01-03</td>\n",
       "      <td>73.1</td>\n",
       "    </tr>\n",
       "    <tr>\n",
       "      <th>18634</th>\n",
       "      <td>113</td>\n",
       "      <td>senate</td>\n",
       "      <td>L000123</td>\n",
       "      <td>Frank</td>\n",
       "      <td>R.</td>\n",
       "      <td>Lautenberg</td>\n",
       "      <td>NaN</td>\n",
       "      <td>1920-01-22</td>\n",
       "      <td>NJ</td>\n",
       "      <td>D</td>\n",
       "      <td>Yes</td>\n",
       "      <td>2013-01-03</td>\n",
       "      <td>93.0</td>\n",
       "    </tr>\n",
       "  </tbody>\n",
       "</table>\n",
       "<p>18635 rows × 13 columns</p>\n",
       "</div>"
      ],
      "text/plain": [
       "       congress chamber bioguide firstname middlename    lastname suffix  \\\n",
       "0            80   house  M000112    Joseph  Jefferson   Mansfield    NaN   \n",
       "1            80   house  D000448    Robert        Lee    Doughton    NaN   \n",
       "2            80   house  S000001    Adolph    Joachim      Sabath    NaN   \n",
       "3            80   house  E000023   Charles     Aubrey       Eaton    NaN   \n",
       "4            80   house  L000296   William        NaN       Lewis    NaN   \n",
       "...         ...     ...      ...       ...        ...         ...    ...   \n",
       "18630       113  senate  B000243       Max         S.      Baucus    NaN   \n",
       "18631       113  senate  C001099   William        NaN       Cowan    NaN   \n",
       "18632       113  senate  C001100   Jeffrey      Scott      Chiesa    NaN   \n",
       "18633       113  senate  K000148      John     Forbes       Kerry    NaN   \n",
       "18634       113  senate  L000123     Frank         R.  Lautenberg    NaN   \n",
       "\n",
       "         birthday state party incumbent  termstart   age  \n",
       "0      1861-02-09    TX     D       Yes 1947-01-03  85.9  \n",
       "1      1863-11-07    NC     D       Yes 1947-01-03  83.2  \n",
       "2      1866-04-04    IL     D       Yes 1947-01-03  80.7  \n",
       "3      1868-03-29    NJ     R       Yes 1947-01-03  78.8  \n",
       "4      1868-09-22    KY     R        No 1947-01-03  78.3  \n",
       "...           ...   ...   ...       ...        ...   ...  \n",
       "18630  1937-12-10    MT     D       Yes 2013-01-03  75.1  \n",
       "18631  1965-04-03    MA     D        No 2013-01-03  47.8  \n",
       "18632  1961-06-21    NJ     R        No 2013-01-03  51.5  \n",
       "18633  1939-12-10    MA     D       Yes 2013-01-03  73.1  \n",
       "18634  1920-01-22    NJ     D       Yes 2013-01-03  93.0  \n",
       "\n",
       "[18635 rows x 13 columns]"
      ]
     },
     "execution_count": 2,
     "metadata": {},
     "output_type": "execute_result"
    }
   ],
   "source": [
    "congress = pd.read_csv('congress-terms.csv', parse_dates = ['termstart'])\n",
    "congress"
   ]
  },
  {
   "cell_type": "markdown",
   "id": "a084dcd2",
   "metadata": {},
   "source": [
    "Creates new column that contains only the year of each term start"
   ]
  },
  {
   "cell_type": "code",
   "execution_count": 3,
   "id": "c6ecce62",
   "metadata": {},
   "outputs": [],
   "source": [
    "congress['year_term_start'] = [d.year for d in congress['termstart']]"
   ]
  },
  {
   "cell_type": "markdown",
   "id": "87419d71",
   "metadata": {},
   "source": [
    "Replaces all instances of 'Yes' in incumbent column with 1 and 'No' with 0, then casts the integers to Booleans"
   ]
  },
  {
   "cell_type": "code",
   "execution_count": 4,
   "id": "f5e22e4c",
   "metadata": {},
   "outputs": [],
   "source": [
    "congress['incumbent'] = congress['incumbent'].replace(['Yes'], 1) \n",
    "congress['incumbent'] = congress['incumbent'].replace(['No'], 0) \n",
    "congress['incumbent'] = congress['incumbent'].astype(bool)"
   ]
  },
  {
   "cell_type": "markdown",
   "id": "bc79ffd1",
   "metadata": {},
   "source": [
    "## Which party elects older politicians?"
   ]
  },
  {
   "cell_type": "markdown",
   "id": "7ef3c391",
   "metadata": {},
   "source": [
    "Creates a histogram comparing the number of politicians elected per party at each age"
   ]
  },
  {
   "cell_type": "code",
   "execution_count": 5,
   "id": "877917fa",
   "metadata": {},
   "outputs": [
    {
     "data": {
      "image/png": "[encoded data removed]",
      "text/plain": [
       "<Figure size 1080x720 with 1 Axes>"
      ]
     },
     "metadata": {
      "needs_background": "light"
     },
     "output_type": "display_data"
    }
   ],
   "source": [
    "plt.figure(figsize = (15,10))\n",
    "plt.title('Age of Congressmen by Party', fontsize = 18)\n",
    "plt.xlabel('Age', fontsize = 14)\n",
    "plt.ylabel('Number of Congressmen', fontsize = 14)\n",
    "\n",
    "sns.histplot(congress, x = congress['age'], hue = congress['party'])\n",
    "plt.show()"
   ]
  },
  {
   "cell_type": "markdown",
   "id": "c2c2af0c",
   "metadata": {},
   "source": [
    "#### Results: \n",
    "Democrats and Republicans tend to follow the same trends for the age of their politicians - while Republicans skew slightly older than Democrats, both parties elect politicians of about the same age at very similar rates. Additionally, both parties tend to elect the most politicians in their 50s. \n",
    "\n",
    "Overall, neither party tends to elect more of a certain age group - the only definitive data is that there are more elected Democrats than Republicans."
   ]
  },
  {
   "cell_type": "markdown",
   "id": "dad2ca3a",
   "metadata": {},
   "source": [
    "## Are politicians getting older or younger?"
   ]
  },
  {
   "cell_type": "markdown",
   "id": "8833b693",
   "metadata": {},
   "source": [
    "### Overall"
   ]
  },
  {
   "cell_type": "markdown",
   "id": "de6d778c",
   "metadata": {},
   "source": [
    "Creates a line plot showing the average age of congressmen elected each year."
   ]
  },
  {
   "cell_type": "code",
   "execution_count": null,
   "id": "4800dc74",
   "metadata": {},
   "outputs": [],
   "source": [
    "plt.figure(figsize = (15,10))\n",
    "plt.title('Average Age of Congressmen Over Time', fontsize = 18)\n",
    "plt.xlabel('Year', fontsize = 14)\n",
    "plt.ylabel('Age', fontsize = 14)\n",
    "\n",
    "sns.lineplot(x = congress['year_term_start'], y = congress['age']) \n",
    "plt.show() "
   ]
  },
  {
   "cell_type": "markdown",
   "id": "1d76accd",
   "metadata": {},
   "source": [
    "Finds average ages in 1947 and 2013 (shown in graph)"
   ]
  },
  {
   "cell_type": "code",
   "execution_count": null,
   "id": "7cad4cfb",
   "metadata": {},
   "outputs": [],
   "source": [
    "congress.loc[congress['congress'] == 80].age.mean()"
   ]
  },
  {
   "cell_type": "code",
   "execution_count": null,
   "id": "6c0b9403",
   "metadata": {},
   "outputs": [],
   "source": [
    "congress.loc[congress['congress'] == 113].age.mean()"
   ]
  },
  {
   "cell_type": "markdown",
   "id": "138a42a2",
   "metadata": {},
   "source": [
    "#### Results:\n",
    "Over time, the average age of congressmen has increased from 52.5 in 1947 to 57.6 in 2013."
   ]
  },
  {
   "cell_type": "markdown",
   "id": "eadc3945",
   "metadata": {},
   "source": [
    "### By party:"
   ]
  },
  {
   "cell_type": "markdown",
   "id": "9e4e2acc",
   "metadata": {},
   "source": [
    "Creates separate dataframe that contain either Democrats or Republicans"
   ]
  },
  {
   "cell_type": "code",
   "execution_count": null,
   "id": "138faef0",
   "metadata": {},
   "outputs": [],
   "source": [
    "dem = pd.DataFrame(congress.loc[congress['party'] == 'D'])\n",
    "rep = pd.DataFrame(congress.loc[congress['party'] == 'R'])"
   ]
  },
  {
   "cell_type": "markdown",
   "id": "1c36b832",
   "metadata": {},
   "source": [
    "Creates a line plot showing the average age of politicians in each of the major parties in comparison the to average age of elected politicians across all parties. "
   ]
  },
  {
   "cell_type": "code",
   "execution_count": null,
   "id": "34871981",
   "metadata": {},
   "outputs": [],
   "source": [
    "plt.figure(figsize = (15,10))\n",
    "plt.title('Average Age of Congressmen Over Time', fontsize = 18)\n",
    "plt.xlabel('Year', fontsize = 14)\n",
    "plt.ylabel('Age', fontsize = 14)\n",
    "\n",
    "sns.lineplot(x = congress['year_term_start'], y = congress['age'], label = 'Congress', color = 'green') \n",
    "sns.lineplot(x = dem['year_term_start'], y = dem['age'], label = 'Democrats', color = 'blue') \n",
    "sns.lineplot(x = rep['year_term_start'], y = rep['age'], label = 'Republicans', color = 'red') \n",
    "plt.show() "
   ]
  },
  {
   "cell_type": "code",
   "execution_count": null,
   "id": "a73e7734",
   "metadata": {},
   "outputs": [],
   "source": [
    "dem.loc[dem['congress'] == 80].age.mean()"
   ]
  },
  {
   "cell_type": "code",
   "execution_count": null,
   "id": "a9a3f78a",
   "metadata": {},
   "outputs": [],
   "source": [
    "dem.loc[dem['congress'] == 113].age.mean()"
   ]
  },
  {
   "cell_type": "code",
   "execution_count": null,
   "id": "63bd2150",
   "metadata": {},
   "outputs": [],
   "source": [
    "rep.loc[rep['congress'] == 80].age.mean()"
   ]
  },
  {
   "cell_type": "code",
   "execution_count": null,
   "id": "ff79771b",
   "metadata": {},
   "outputs": [],
   "source": [
    "rep.loc[rep['congress'] == 113].age.mean()"
   ]
  },
  {
   "cell_type": "markdown",
   "id": "ec027c3b",
   "metadata": {},
   "source": [
    "#### Results:\n",
    "Both parties saw an overall increase in the average age of elected politicians. The average age of Democrats increased from 52 in 1947 to 59.6 in 2013, and the average age of Republicans increased from 53 in 1947 to 55.8 in 2013.\n",
    "\n",
    "While Democrats started off by electing (slightly) younger politicians than the Republican party, the average switched in the early 1960s and stayed that way until 2013. "
   ]
  },
  {
   "cell_type": "markdown",
   "id": "d381de20",
   "metadata": {},
   "source": [
    "## Which major party experiences more turnover in politicians?"
   ]
  },
  {
   "cell_type": "markdown",
   "id": "64a3f3ca",
   "metadata": {},
   "source": [
    "Creates new dataframe that contains only newly-elected politicians, then groups it by number per year"
   ]
  },
  {
   "cell_type": "code",
   "execution_count": null,
   "id": "21e64d9f",
   "metadata": {},
   "outputs": [],
   "source": [
    "new_elects = congress.loc[congress['incumbent'] == False]\n",
    "new_elects = new_elects.groupby(['year_term_start']).count()\n",
    "new_elects"
   ]
  },
  {
   "cell_type": "markdown",
   "id": "8105ea0c",
   "metadata": {},
   "source": [
    "Creates a barplot showing the number of newly-elected politicians per year"
   ]
  },
  {
   "cell_type": "code",
   "execution_count": null,
   "id": "022dbc0b",
   "metadata": {
    "scrolled": false
   },
   "outputs": [],
   "source": [
    "plt.figure(figsize = (15,10))\n",
    "\n",
    "sns.barplot(x = new_elects.index, y = new_elects['incumbent'], color = 'green')\n",
    "\n",
    "plt.title('Number of New Congressmen Over Time', fontsize = 18)\n",
    "plt.xlabel('Year', fontsize = 14)\n",
    "plt.xticks(rotation = 45)\n",
    "plt.ylabel('Number of Congressmen', fontsize = 14)\n",
    "plt.show() "
   ]
  },
  {
   "cell_type": "markdown",
   "id": "daec194f",
   "metadata": {},
   "source": [
    "#### Results:\n",
    "\n",
    "There are no consistent conclusions that I can draw from this. The only thing I can say for sure is that after several years with a lower number of new politicians (about 60), the number of new politicians tends to spike, whether the politicians lose their elections, retire, or move onto new office. "
   ]
  },
  {
   "cell_type": "markdown",
   "id": "5065af7b",
   "metadata": {},
   "source": [
    "Creates two dataframes in the same way as new_elects, now divided into Democrats and Republicans"
   ]
  },
  {
   "cell_type": "code",
   "execution_count": null,
   "id": "95464659",
   "metadata": {},
   "outputs": [],
   "source": [
    "dem_new_elects = dem.loc[dem['incumbent'] == False]\n",
    "dem_new_elects = dem_new_elects.groupby(['year_term_start']).count()\n",
    "rep_new_elects = rep.loc[rep['incumbent'] == False]\n",
    "rep_new_elects = rep_new_elects.groupby(['year_term_start']).count()"
   ]
  },
  {
   "cell_type": "markdown",
   "id": "ec35b916",
   "metadata": {},
   "source": [
    "Creates barplot comparing the number of newly-elected politicians per year based on party"
   ]
  },
  {
   "cell_type": "code",
   "execution_count": null,
   "id": "925b1db0",
   "metadata": {
    "scrolled": false
   },
   "outputs": [],
   "source": [
    "plt.figure(figsize = (15,10))\n",
    "\n",
    "sns.barplot(x = dem_new_elects.index, y = dem_new_elects['incumbent'], color = 'blue')\n",
    "sns.barplot(x = rep_new_elects.index, y = rep_new_elects['incumbent'], color = 'red', alpha = 0.5)\n",
    "# https://www.tutorialkart.com/matplotlib-tutorial/matplotlib-pyplot-bar-plot-alpha/\n",
    "# I used this to change the opacity of the bars\n",
    "\n",
    "plt.title('Number of New Congressmen Over Time by Party', fontsize = 18)\n",
    "plt.xlabel('Year', fontsize = 14)\n",
    "plt.xticks(rotation = 45)\n",
    "plt.ylabel('Number of Congressmen', fontsize = 14)\n",
    "plt.show() "
   ]
  },
  {
   "cell_type": "markdown",
   "id": "62570e20",
   "metadata": {},
   "source": [
    "#### Results:\n",
    "\n",
    "Neither party tends to elect more new politicians - it really just depends on the year"
   ]
  },
  {
   "cell_type": "code",
   "execution_count": null,
   "id": "4db0a3f1",
   "metadata": {},
   "outputs": [],
   "source": []
  }
 ],
 "metadata": {
  "kernelspec": {
   "display_name": "Python 3",
   "language": "python",
   "name": "python3"
  },
  "language_info": {
   "codemirror_mode": {
    "name": "ipython",
    "version": 3
   },
   "file_extension": ".py",
   "mimetype": "text/x-python",
   "name": "python",
   "nbconvert_exporter": "python",
   "pygments_lexer": "ipython3",
   "version": "3.8.8"
  }
 },
 "nbformat": 4,
 "nbformat_minor": 5
}
