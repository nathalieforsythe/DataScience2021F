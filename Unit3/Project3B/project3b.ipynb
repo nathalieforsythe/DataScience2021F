{
 "cells": [
  {
   "cell_type": "markdown",
   "id": "3e9d45f0",
   "metadata": {},
   "source": [
    "# Age of People in Congress"
   ]
  },
  {
   "cell_type": "code",
   "execution_count": 1,
   "id": "24a0783a",
   "metadata": {},
   "outputs": [],
   "source": [
    "import pandas as pd\n",
    "import matplotlib.pyplot as plt\n",
    "import seaborn as sns\n",
    "import datetime"
   ]
  },
  {
   "cell_type": "code",
   "execution_count": 2,
   "id": "366b7174",
   "metadata": {},
   "outputs": [
    {
     "data": {
      "text/html": [
       "<div>\n",
       "<style scoped>\n",
       "    .dataframe tbody tr th:only-of-type {\n",
       "        vertical-align: middle;\n",
       "    }\n",
       "\n",
       "    .dataframe tbody tr th {\n",
       "        vertical-align: top;\n",
       "    }\n",
       "\n",
       "    .dataframe thead th {\n",
       "        text-align: right;\n",
       "    }\n",
       "</style>\n",
       "<table border=\"1\" class=\"dataframe\">\n",
       "  <thead>\n",
       "    <tr style=\"text-align: right;\">\n",
       "      <th></th>\n",
       "      <th>congress</th>\n",
       "      <th>chamber</th>\n",
       "      <th>bioguide</th>\n",
       "      <th>firstname</th>\n",
       "      <th>middlename</th>\n",
       "      <th>lastname</th>\n",
       "      <th>suffix</th>\n",
       "      <th>birthday</th>\n",
       "      <th>state</th>\n",
       "      <th>party</th>\n",
       "      <th>incumbent</th>\n",
       "      <th>termstart</th>\n",
       "      <th>age</th>\n",
       "    </tr>\n",
       "  </thead>\n",
       "  <tbody>\n",
       "    <tr>\n",
       "      <th>0</th>\n",
       "      <td>80</td>\n",
       "      <td>house</td>\n",
       "      <td>M000112</td>\n",
       "      <td>Joseph</td>\n",
       "      <td>Jefferson</td>\n",
       "      <td>Mansfield</td>\n",
       "      <td>NaN</td>\n",
       "      <td>1861-02-09</td>\n",
       "      <td>TX</td>\n",
       "      <td>D</td>\n",
       "      <td>Yes</td>\n",
       "      <td>1947-01-03</td>\n",
       "      <td>85.9</td>\n",
       "    </tr>\n",
       "    <tr>\n",
       "      <th>1</th>\n",
       "      <td>80</td>\n",
       "      <td>house</td>\n",
       "      <td>D000448</td>\n",
       "      <td>Robert</td>\n",
       "      <td>Lee</td>\n",
       "      <td>Doughton</td>\n",
       "      <td>NaN</td>\n",
       "      <td>1863-11-07</td>\n",
       "      <td>NC</td>\n",
       "      <td>D</td>\n",
       "      <td>Yes</td>\n",
       "      <td>1947-01-03</td>\n",
       "      <td>83.2</td>\n",
       "    </tr>\n",
       "    <tr>\n",
       "      <th>2</th>\n",
       "      <td>80</td>\n",
       "      <td>house</td>\n",
       "      <td>S000001</td>\n",
       "      <td>Adolph</td>\n",
       "      <td>Joachim</td>\n",
       "      <td>Sabath</td>\n",
       "      <td>NaN</td>\n",
       "      <td>1866-04-04</td>\n",
       "      <td>IL</td>\n",
       "      <td>D</td>\n",
       "      <td>Yes</td>\n",
       "      <td>1947-01-03</td>\n",
       "      <td>80.7</td>\n",
       "    </tr>\n",
       "    <tr>\n",
       "      <th>3</th>\n",
       "      <td>80</td>\n",
       "      <td>house</td>\n",
       "      <td>E000023</td>\n",
       "      <td>Charles</td>\n",
       "      <td>Aubrey</td>\n",
       "      <td>Eaton</td>\n",
       "      <td>NaN</td>\n",
       "      <td>1868-03-29</td>\n",
       "      <td>NJ</td>\n",
       "      <td>R</td>\n",
       "      <td>Yes</td>\n",
       "      <td>1947-01-03</td>\n",
       "      <td>78.8</td>\n",
       "    </tr>\n",
       "    <tr>\n",
       "      <th>4</th>\n",
       "      <td>80</td>\n",
       "      <td>house</td>\n",
       "      <td>L000296</td>\n",
       "      <td>William</td>\n",
       "      <td>NaN</td>\n",
       "      <td>Lewis</td>\n",
       "      <td>NaN</td>\n",
       "      <td>1868-09-22</td>\n",
       "      <td>KY</td>\n",
       "      <td>R</td>\n",
       "      <td>No</td>\n",
       "      <td>1947-01-03</td>\n",
       "      <td>78.3</td>\n",
       "    </tr>\n",
       "    <tr>\n",
       "      <th>...</th>\n",
       "      <td>...</td>\n",
       "      <td>...</td>\n",
       "      <td>...</td>\n",
       "      <td>...</td>\n",
       "      <td>...</td>\n",
       "      <td>...</td>\n",
       "      <td>...</td>\n",
       "      <td>...</td>\n",
       "      <td>...</td>\n",
       "      <td>...</td>\n",
       "      <td>...</td>\n",
       "      <td>...</td>\n",
       "      <td>...</td>\n",
       "    </tr>\n",
       "    <tr>\n",
       "      <th>18630</th>\n",
       "      <td>113</td>\n",
       "      <td>senate</td>\n",
       "      <td>B000243</td>\n",
       "      <td>Max</td>\n",
       "      <td>S.</td>\n",
       "      <td>Baucus</td>\n",
       "      <td>NaN</td>\n",
       "      <td>1937-12-10</td>\n",
       "      <td>MT</td>\n",
       "      <td>D</td>\n",
       "      <td>Yes</td>\n",
       "      <td>2013-01-03</td>\n",
       "      <td>75.1</td>\n",
       "    </tr>\n",
       "    <tr>\n",
       "      <th>18631</th>\n",
       "      <td>113</td>\n",
       "      <td>senate</td>\n",
       "      <td>C001099</td>\n",
       "      <td>William</td>\n",
       "      <td>NaN</td>\n",
       "      <td>Cowan</td>\n",
       "      <td>NaN</td>\n",
       "      <td>1965-04-03</td>\n",
       "      <td>MA</td>\n",
       "      <td>D</td>\n",
       "      <td>No</td>\n",
       "      <td>2013-01-03</td>\n",
       "      <td>47.8</td>\n",
       "    </tr>\n",
       "    <tr>\n",
       "      <th>18632</th>\n",
       "      <td>113</td>\n",
       "      <td>senate</td>\n",
       "      <td>C001100</td>\n",
       "      <td>Jeffrey</td>\n",
       "      <td>Scott</td>\n",
       "      <td>Chiesa</td>\n",
       "      <td>NaN</td>\n",
       "      <td>1961-06-21</td>\n",
       "      <td>NJ</td>\n",
       "      <td>R</td>\n",
       "      <td>No</td>\n",
       "      <td>2013-01-03</td>\n",
       "      <td>51.5</td>\n",
       "    </tr>\n",
       "    <tr>\n",
       "      <th>18633</th>\n",
       "      <td>113</td>\n",
       "      <td>senate</td>\n",
       "      <td>K000148</td>\n",
       "      <td>John</td>\n",
       "      <td>Forbes</td>\n",
       "      <td>Kerry</td>\n",
       "      <td>NaN</td>\n",
       "      <td>1939-12-10</td>\n",
       "      <td>MA</td>\n",
       "      <td>D</td>\n",
       "      <td>Yes</td>\n",
       "      <td>2013-01-03</td>\n",
       "      <td>73.1</td>\n",
       "    </tr>\n",
       "    <tr>\n",
       "      <th>18634</th>\n",
       "      <td>113</td>\n",
       "      <td>senate</td>\n",
       "      <td>L000123</td>\n",
       "      <td>Frank</td>\n",
       "      <td>R.</td>\n",
       "      <td>Lautenberg</td>\n",
       "      <td>NaN</td>\n",
       "      <td>1920-01-22</td>\n",
       "      <td>NJ</td>\n",
       "      <td>D</td>\n",
       "      <td>Yes</td>\n",
       "      <td>2013-01-03</td>\n",
       "      <td>93.0</td>\n",
       "    </tr>\n",
       "  </tbody>\n",
       "</table>\n",
       "<p>18635 rows × 13 columns</p>\n",
       "</div>"
      ],
      "text/plain": [
       "       congress chamber bioguide firstname middlename    lastname suffix  \\\n",
       "0            80   house  M000112    Joseph  Jefferson   Mansfield    NaN   \n",
       "1            80   house  D000448    Robert        Lee    Doughton    NaN   \n",
       "2            80   house  S000001    Adolph    Joachim      Sabath    NaN   \n",
       "3            80   house  E000023   Charles     Aubrey       Eaton    NaN   \n",
       "4            80   house  L000296   William        NaN       Lewis    NaN   \n",
       "...         ...     ...      ...       ...        ...         ...    ...   \n",
       "18630       113  senate  B000243       Max         S.      Baucus    NaN   \n",
       "18631       113  senate  C001099   William        NaN       Cowan    NaN   \n",
       "18632       113  senate  C001100   Jeffrey      Scott      Chiesa    NaN   \n",
       "18633       113  senate  K000148      John     Forbes       Kerry    NaN   \n",
       "18634       113  senate  L000123     Frank         R.  Lautenberg    NaN   \n",
       "\n",
       "         birthday state party incumbent   termstart   age  \n",
       "0      1861-02-09    TX     D       Yes  1947-01-03  85.9  \n",
       "1      1863-11-07    NC     D       Yes  1947-01-03  83.2  \n",
       "2      1866-04-04    IL     D       Yes  1947-01-03  80.7  \n",
       "3      1868-03-29    NJ     R       Yes  1947-01-03  78.8  \n",
       "4      1868-09-22    KY     R        No  1947-01-03  78.3  \n",
       "...           ...   ...   ...       ...         ...   ...  \n",
       "18630  1937-12-10    MT     D       Yes  2013-01-03  75.1  \n",
       "18631  1965-04-03    MA     D        No  2013-01-03  47.8  \n",
       "18632  1961-06-21    NJ     R        No  2013-01-03  51.5  \n",
       "18633  1939-12-10    MA     D       Yes  2013-01-03  73.1  \n",
       "18634  1920-01-22    NJ     D       Yes  2013-01-03  93.0  \n",
       "\n",
       "[18635 rows x 13 columns]"
      ]
     },
     "execution_count": 2,
     "metadata": {},
     "output_type": "execute_result"
    }
   ],
   "source": [
    "congress = pd.read_csv('congress-terms.csv', parse_dates=True)\n",
    "congress"
   ]
  },
  {
   "cell_type": "code",
   "execution_count": 3,
   "id": "c6ecce62",
   "metadata": {},
   "outputs": [
    {
     "name": "stdout",
     "output_type": "stream",
     "text": [
      "<class 'pandas.core.frame.DataFrame'>\n",
      "RangeIndex: 18635 entries, 0 to 18634\n",
      "Data columns (total 13 columns):\n",
      " #   Column      Non-Null Count  Dtype  \n",
      "---  ------      --------------  -----  \n",
      " 0   congress    18635 non-null  int64  \n",
      " 1   chamber     18635 non-null  object \n",
      " 2   bioguide    18635 non-null  object \n",
      " 3   firstname   18635 non-null  object \n",
      " 4   middlename  15099 non-null  object \n",
      " 5   lastname    18635 non-null  object \n",
      " 6   suffix      1698 non-null   object \n",
      " 7   birthday    18635 non-null  object \n",
      " 8   state       18635 non-null  object \n",
      " 9   party       18635 non-null  object \n",
      " 10  incumbent   18635 non-null  object \n",
      " 11  termstart   18635 non-null  object \n",
      " 12  age         18635 non-null  float64\n",
      "dtypes: float64(1), int64(1), object(11)\n",
      "memory usage: 1.8+ MB\n"
     ]
    }
   ],
   "source": [
    "congress.info()"
   ]
  },
  {
   "cell_type": "code",
   "execution_count": 4,
   "id": "faec75e0",
   "metadata": {},
   "outputs": [
    {
     "ename": "AssertionError",
     "evalue": "",
     "output_type": "error",
     "traceback": [
      "\u001b[0;31m---------------------------------------------------------------------------\u001b[0m",
      "\u001b[0;31mAssertionError\u001b[0m                            Traceback (most recent call last)",
      "\u001b[0;32m<ipython-input-4-3534fcd9f995>\u001b[0m in \u001b[0;36m<module>\u001b[0;34m\u001b[0m\n\u001b[0;32m----> 1\u001b[0;31m \u001b[0mcongress\u001b[0m\u001b[0;34m[\u001b[0m\u001b[0;34m'termstart'\u001b[0m\u001b[0;34m]\u001b[0m \u001b[0;34m=\u001b[0m \u001b[0;34m[\u001b[0m\u001b[0mpd\u001b[0m\u001b[0;34m.\u001b[0m\u001b[0mto_datetime\u001b[0m\u001b[0;34m(\u001b[0m\u001b[0md\u001b[0m\u001b[0;34m,\u001b[0m \u001b[0;34m'%Y-%m-%d'\u001b[0m\u001b[0;34m)\u001b[0m \u001b[0;32mfor\u001b[0m \u001b[0md\u001b[0m \u001b[0;32min\u001b[0m \u001b[0mcongress\u001b[0m\u001b[0;34m[\u001b[0m\u001b[0;34m'termstart'\u001b[0m\u001b[0;34m]\u001b[0m\u001b[0;34m]\u001b[0m\u001b[0;34m\u001b[0m\u001b[0;34m\u001b[0m\u001b[0m\n\u001b[0m\u001b[1;32m      2\u001b[0m \u001b[0;31m# type(congress['termstart'][0])\u001b[0m\u001b[0;34m\u001b[0m\u001b[0;34m\u001b[0m\u001b[0;34m\u001b[0m\u001b[0m\n",
      "\u001b[0;32m<ipython-input-4-3534fcd9f995>\u001b[0m in \u001b[0;36m<listcomp>\u001b[0;34m(.0)\u001b[0m\n\u001b[0;32m----> 1\u001b[0;31m \u001b[0mcongress\u001b[0m\u001b[0;34m[\u001b[0m\u001b[0;34m'termstart'\u001b[0m\u001b[0;34m]\u001b[0m \u001b[0;34m=\u001b[0m \u001b[0;34m[\u001b[0m\u001b[0mpd\u001b[0m\u001b[0;34m.\u001b[0m\u001b[0mto_datetime\u001b[0m\u001b[0;34m(\u001b[0m\u001b[0md\u001b[0m\u001b[0;34m,\u001b[0m \u001b[0;34m'%Y-%m-%d'\u001b[0m\u001b[0;34m)\u001b[0m \u001b[0;32mfor\u001b[0m \u001b[0md\u001b[0m \u001b[0;32min\u001b[0m \u001b[0mcongress\u001b[0m\u001b[0;34m[\u001b[0m\u001b[0;34m'termstart'\u001b[0m\u001b[0;34m]\u001b[0m\u001b[0;34m]\u001b[0m\u001b[0;34m\u001b[0m\u001b[0;34m\u001b[0m\u001b[0m\n\u001b[0m\u001b[1;32m      2\u001b[0m \u001b[0;31m# type(congress['termstart'][0])\u001b[0m\u001b[0;34m\u001b[0m\u001b[0;34m\u001b[0m\u001b[0;34m\u001b[0m\u001b[0m\n",
      "\u001b[0;32m/Applications/anaconda3/lib/python3.8/site-packages/pandas/core/tools/datetimes.py\u001b[0m in \u001b[0;36mto_datetime\u001b[0;34m(arg, errors, dayfirst, yearfirst, utc, format, exact, unit, infer_datetime_format, origin, cache)\u001b[0m\n\u001b[1;32m    830\u001b[0m             \u001b[0mresult\u001b[0m \u001b[0;34m=\u001b[0m \u001b[0mconvert_listlike\u001b[0m\u001b[0;34m(\u001b[0m\u001b[0marg\u001b[0m\u001b[0;34m,\u001b[0m \u001b[0mformat\u001b[0m\u001b[0;34m)\u001b[0m\u001b[0;34m\u001b[0m\u001b[0;34m\u001b[0m\u001b[0m\n\u001b[1;32m    831\u001b[0m     \u001b[0;32melse\u001b[0m\u001b[0;34m:\u001b[0m\u001b[0;34m\u001b[0m\u001b[0;34m\u001b[0m\u001b[0m\n\u001b[0;32m--> 832\u001b[0;31m         \u001b[0mresult\u001b[0m \u001b[0;34m=\u001b[0m \u001b[0mconvert_listlike\u001b[0m\u001b[0;34m(\u001b[0m\u001b[0mnp\u001b[0m\u001b[0;34m.\u001b[0m\u001b[0marray\u001b[0m\u001b[0;34m(\u001b[0m\u001b[0;34m[\u001b[0m\u001b[0marg\u001b[0m\u001b[0;34m]\u001b[0m\u001b[0;34m)\u001b[0m\u001b[0;34m,\u001b[0m \u001b[0mformat\u001b[0m\u001b[0;34m)\u001b[0m\u001b[0;34m[\u001b[0m\u001b[0;36m0\u001b[0m\u001b[0;34m]\u001b[0m\u001b[0;34m\u001b[0m\u001b[0;34m\u001b[0m\u001b[0m\n\u001b[0m\u001b[1;32m    833\u001b[0m \u001b[0;34m\u001b[0m\u001b[0m\n\u001b[1;32m    834\u001b[0m     \u001b[0;32mreturn\u001b[0m \u001b[0mresult\u001b[0m\u001b[0;34m\u001b[0m\u001b[0;34m\u001b[0m\u001b[0m\n",
      "\u001b[0;32m/Applications/anaconda3/lib/python3.8/site-packages/pandas/core/tools/datetimes.py\u001b[0m in \u001b[0;36m_convert_listlike_datetimes\u001b[0;34m(arg, format, name, tz, unit, errors, infer_datetime_format, dayfirst, yearfirst, exact)\u001b[0m\n\u001b[1;32m    463\u001b[0m         \u001b[0;32massert\u001b[0m \u001b[0mformat\u001b[0m \u001b[0;32mis\u001b[0m \u001b[0;32mNone\u001b[0m \u001b[0;32mor\u001b[0m \u001b[0minfer_datetime_format\u001b[0m\u001b[0;34m\u001b[0m\u001b[0;34m\u001b[0m\u001b[0m\n\u001b[1;32m    464\u001b[0m         \u001b[0mutc\u001b[0m \u001b[0;34m=\u001b[0m \u001b[0mtz\u001b[0m \u001b[0;34m==\u001b[0m \u001b[0;34m\"utc\"\u001b[0m\u001b[0;34m\u001b[0m\u001b[0;34m\u001b[0m\u001b[0m\n\u001b[0;32m--> 465\u001b[0;31m         result, tz_parsed = objects_to_datetime64ns(\n\u001b[0m\u001b[1;32m    466\u001b[0m             \u001b[0marg\u001b[0m\u001b[0;34m,\u001b[0m\u001b[0;34m\u001b[0m\u001b[0;34m\u001b[0m\u001b[0m\n\u001b[1;32m    467\u001b[0m             \u001b[0mdayfirst\u001b[0m\u001b[0;34m=\u001b[0m\u001b[0mdayfirst\u001b[0m\u001b[0;34m,\u001b[0m\u001b[0;34m\u001b[0m\u001b[0;34m\u001b[0m\u001b[0m\n",
      "\u001b[0;32m/Applications/anaconda3/lib/python3.8/site-packages/pandas/core/arrays/datetimes.py\u001b[0m in \u001b[0;36mobjects_to_datetime64ns\u001b[0;34m(data, dayfirst, yearfirst, utc, errors, require_iso8601, allow_object)\u001b[0m\n\u001b[1;32m   2067\u001b[0m     \u001b[0mValueError\u001b[0m \u001b[0;34m:\u001b[0m \u001b[0;32mif\u001b[0m \u001b[0mdata\u001b[0m \u001b[0mcannot\u001b[0m \u001b[0mbe\u001b[0m \u001b[0mconverted\u001b[0m \u001b[0mto\u001b[0m \u001b[0mdatetimes\u001b[0m\u001b[0;34m\u001b[0m\u001b[0;34m\u001b[0m\u001b[0m\n\u001b[1;32m   2068\u001b[0m     \"\"\"\n\u001b[0;32m-> 2069\u001b[0;31m     \u001b[0;32massert\u001b[0m \u001b[0merrors\u001b[0m \u001b[0;32min\u001b[0m \u001b[0;34m[\u001b[0m\u001b[0;34m\"raise\"\u001b[0m\u001b[0;34m,\u001b[0m \u001b[0;34m\"ignore\"\u001b[0m\u001b[0;34m,\u001b[0m \u001b[0;34m\"coerce\"\u001b[0m\u001b[0;34m]\u001b[0m\u001b[0;34m\u001b[0m\u001b[0;34m\u001b[0m\u001b[0m\n\u001b[0m\u001b[1;32m   2070\u001b[0m \u001b[0;34m\u001b[0m\u001b[0m\n\u001b[1;32m   2071\u001b[0m     \u001b[0;31m# if str-dtype, convert\u001b[0m\u001b[0;34m\u001b[0m\u001b[0;34m\u001b[0m\u001b[0;34m\u001b[0m\u001b[0m\n",
      "\u001b[0;31mAssertionError\u001b[0m: "
     ]
    }
   ],
   "source": [
    "congress['termstart'] = [pd.to_datetime(d, '%Y-%m-%d') for d in congress['termstart']]\n",
    "# type(congress['termstart'][0])"
   ]
  },
  {
   "cell_type": "code",
   "execution_count": null,
   "id": "d1cc46be",
   "metadata": {},
   "outputs": [],
   "source": [
    "congress.info()"
   ]
  },
  {
   "cell_type": "code",
   "execution_count": null,
   "id": "7ad6de01",
   "metadata": {},
   "outputs": [],
   "source": [
    "type(congress.termstart[0])"
   ]
  },
  {
   "cell_type": "markdown",
   "id": "bc79ffd1",
   "metadata": {},
   "source": [
    "## Which party elects older politicians?"
   ]
  },
  {
   "cell_type": "code",
   "execution_count": null,
   "id": "138faef0",
   "metadata": {},
   "outputs": [],
   "source": [
    "dem = pd.DataFrame(congress.loc[congress.party=='D'])\n",
    "dem"
   ]
  },
  {
   "cell_type": "markdown",
   "id": "9e4e2acc",
   "metadata": {},
   "source": [
    "Creates a dataframe that contains only Democrats "
   ]
  },
  {
   "cell_type": "code",
   "execution_count": null,
   "id": "12d31895",
   "metadata": {},
   "outputs": [],
   "source": [
    "rep = pd.DataFrame(congress.loc[congress.party=='R'])\n",
    "rep"
   ]
  },
  {
   "cell_type": "markdown",
   "id": "60a58480",
   "metadata": {},
   "source": [
    "Creates a dataframe containing only Republicans"
   ]
  },
  {
   "cell_type": "code",
   "execution_count": null,
   "id": "877917fa",
   "metadata": {},
   "outputs": [],
   "source": [
    "# is this even a good graph to use\n",
    "# like can I actually draw any conclusions from this\n",
    "\n",
    "sns.distplot(a=dem['age'], label='Democrats', kde=False)\n",
    "sns.distplot(a=rep['age'], label='Republicans', kde=False)\n",
    "\n",
    "plt.title('Age of Congressmen by Party')\n",
    "plt.xlabel('Age')\n",
    "plt.ylabel('Number of Congressmen')\n",
    "plt.legend()\n",
    "plt.show()"
   ]
  },
  {
   "cell_type": "markdown",
   "id": "c2c2af0c",
   "metadata": {},
   "source": [
    "Creates a histogram comparing the number of politicians elected per party at each age\n",
    "\n",
    "#### Results: \n",
    "Shows that more Democrats are elected than Republicans, so technically, Democrats elect more older politicians"
   ]
  },
  {
   "cell_type": "markdown",
   "id": "dad2ca3a",
   "metadata": {},
   "source": [
    "## Are politicians getting older or younger?"
   ]
  },
  {
   "cell_type": "code",
   "execution_count": null,
   "id": "4800dc74",
   "metadata": {},
   "outputs": [],
   "source": [
    "plt.figure(figsize=(15,10))\n",
    "plt.title('Average Age of Congressmen Over Time')\n",
    "plt.xlabel('Date')\n",
    "plt.xticks(rotation=45)\n",
    "plt.ylabel('Age')\n",
    "\n",
    "sns.lineplot(x=congress['termstart'], y=congress['age']) \n",
    "\n",
    "plt.show() "
   ]
  },
  {
   "cell_type": "markdown",
   "id": "138a42a2",
   "metadata": {},
   "source": [
    "Creates a line plot showing the average age of congressmen elected each year.\n",
    "#### Results:\n",
    "Over time, the average age of congressmen has increased from (find age) in 1947 to (find age) in 2013."
   ]
  },
  {
   "cell_type": "code",
   "execution_count": null,
   "id": "b56106d2",
   "metadata": {},
   "outputs": [],
   "source": []
  }
 ],
 "metadata": {
  "kernelspec": {
   "display_name": "Python 3",
   "language": "python",
   "name": "python3"
  },
  "language_info": {
   "codemirror_mode": {
    "name": "ipython",
    "version": 3
   },
   "file_extension": ".py",
   "mimetype": "text/x-python",
   "name": "python",
   "nbconvert_exporter": "python",
   "pygments_lexer": "ipython3",
   "version": "3.8.8"
  }
 },
 "nbformat": 4,
 "nbformat_minor": 5
}
