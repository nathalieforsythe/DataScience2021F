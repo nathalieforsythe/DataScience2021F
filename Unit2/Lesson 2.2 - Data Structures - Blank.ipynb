{
 "cells": [
  {
   "cell_type": "markdown",
   "id": "a3a28689",
   "metadata": {},
   "source": [
    "# Data Science Lesson - Data Structures\n",
    "---\n",
    "**Question: How do we represent our Stick Figure Google Sheet (table) in a Python variable?**\n",
    "\n",
    "### List of Dictionaries\n",
    "\n",
    "Represent each person as a dictionary, and store them all in a list. Output the list to verify."
   ]
  },
  {
   "cell_type": "code",
   "execution_count": 17,
   "id": "46d98ee3",
   "metadata": {},
   "outputs": [
    {
     "data": {
      "text/plain": [
       "[{'name': 'Dakota', 'height': 72, 'gpa': 3.15, 'friends': 307},\n",
       " {'name': 'Hayden', 'height': 68, 'gpa': 3.5, 'friends': 335},\n",
       " {'name': 'Charlie', 'height': 61, 'gpa': 1.1, 'friends': 34},\n",
       " {'name': 'Kamryn', 'height': 66, 'gpa': 2.18, 'friends': 200},\n",
       " {'name': 'Emerson', 'height': 65, 'gpa': 3.06, 'friends': 213},\n",
       " {'name': 'Jessie', 'height': 61, 'gpa': 2.41, 'friends': 202},\n",
       " {'name': 'Sawyer', 'height': 67, 'gpa': 2.96, 'friends': 314},\n",
       " {'name': 'London', 'height': 64, 'gpa': 3.98, 'friends': 436}]"
      ]
     },
     "execution_count": 17,
     "metadata": {},
     "output_type": "execute_result"
    }
   ],
   "source": [
    "people = [{'name' : 'Dakota', 'height' : 72, 'gpa' : 3.15, 'friends' : 307}, \n",
    "          {'name' : 'Hayden', 'height' : 68, 'gpa' : 3.5, 'friends' : 335},\n",
    "          {'name' : 'Charlie', 'height' : 61, 'gpa' : 1.1, 'friends' : 34},\n",
    "          {'name' : 'Kamryn', 'height' : 66, 'gpa' : 2.18, 'friends' : 200},\n",
    "          {'name' : 'Emerson', 'height' : 65, 'gpa' : 3.06, 'friends' : 213},\n",
    "          {'name' : 'Jessie', 'height' : 61, 'gpa' : 2.41, 'friends' : 202},\n",
    "          {'name' : 'Sawyer', 'height' : 67, 'gpa' : 2.96, 'friends' : 314},\n",
    "          {'name' : 'London', 'height' : 64, 'gpa' : 3.98, 'friends' : 436}\n",
    "]\n",
    "\n",
    "people"
   ]
  },
  {
   "cell_type": "markdown",
   "id": "9dee2d16",
   "metadata": {},
   "source": [
    "What is the mean height of people in our list? First, use pure Python functions to calculate this, and output to verify. First, get the heights:"
   ]
  },
  {
   "cell_type": "code",
   "execution_count": 11,
   "id": "3525da44",
   "metadata": {},
   "outputs": [
    {
     "data": {
      "text/plain": [
       "[72, 68, 61, 66, 65, 61, 67, 64]"
      ]
     },
     "execution_count": 11,
     "metadata": {},
     "output_type": "execute_result"
    }
   ],
   "source": [
    "# heights = []\n",
    "# for person in people: \n",
    "    # heights.append(person['height'])\n",
    "# heights\n",
    "\n",
    "heights = [person['height'] for person in people]\n",
    "heights"
   ]
  },
  {
   "cell_type": "markdown",
   "id": "b4a0df31",
   "metadata": {},
   "source": [
    "Next, calculate the mean:"
   ]
  },
  {
   "cell_type": "code",
   "execution_count": 12,
   "id": "5959d6e7",
   "metadata": {},
   "outputs": [
    {
     "data": {
      "text/plain": [
       "65.5"
      ]
     },
     "execution_count": 12,
     "metadata": {},
     "output_type": "execute_result"
    }
   ],
   "source": [
    "mean = sum(heights)/len(heights)\n",
    "mean"
   ]
  },
  {
   "cell_type": "markdown",
   "id": "bd6592b4",
   "metadata": {},
   "source": [
    "Now, import numpy (as np) and use its mean function to find the mean of the heights list directly."
   ]
  },
  {
   "cell_type": "code",
   "execution_count": 14,
   "id": "dac4edc5",
   "metadata": {},
   "outputs": [
    {
     "data": {
      "text/plain": [
       "65.5"
      ]
     },
     "execution_count": 14,
     "metadata": {},
     "output_type": "execute_result"
    }
   ],
   "source": [
    "import numpy as np\n",
    "mean = np.mean(heights)\n",
    "mean"
   ]
  },
  {
   "cell_type": "markdown",
   "id": "25f72f93",
   "metadata": {},
   "source": [
    "## Dictionary of Lists\n",
    "\n",
    "Using a dictionary and key/value pairs, represent each attribute (column) of a person as a key and all the values of each attribute as a list. I.e., a dictionary of lists. Output the dict to verify."
   ]
  },
  {
   "cell_type": "code",
   "execution_count": 18,
   "id": "d5dca641",
   "metadata": {},
   "outputs": [
    {
     "data": {
      "text/plain": [
       "{'names': ['Dakota',\n",
       "  'Hayden',\n",
       "  'Charlie',\n",
       "  'Kamryn',\n",
       "  'Emerson',\n",
       "  'Jessie',\n",
       "  'Sawyer',\n",
       "  'London'],\n",
       " 'heights': [72, 68, 61, 66, 65, 61, 67, 64],\n",
       " 'gpas': [3.15, 3.5, 1.1, 2.18, 3.06, 2.41, 2.96, 3.98],\n",
       " 'friends': [307, 335, 34, 200, 213, 202, 314, 436]}"
      ]
     },
     "execution_count": 18,
     "metadata": {},
     "output_type": "execute_result"
    }
   ],
   "source": [
    "people = {'names' : [person['name'] for person in people],\n",
    "          'heights' : [person['height'] for person in people],\n",
    "          'gpas': [person['gpa'] for person in people],\n",
    "          'friends' : [person['friends'] for person in people]\n",
    "}\n",
    "people"
   ]
  },
  {
   "cell_type": "markdown",
   "id": "846bdc27",
   "metadata": {},
   "source": [
    "Now use NumPy to get the mean in one statement."
   ]
  },
  {
   "cell_type": "code",
   "execution_count": 19,
   "id": "898bb3cd",
   "metadata": {},
   "outputs": [
    {
     "data": {
      "text/plain": [
       "65.5"
      ]
     },
     "execution_count": 19,
     "metadata": {},
     "output_type": "execute_result"
    }
   ],
   "source": [
    "mean = np.mean(people['heights'])\n",
    "mean"
   ]
  },
  {
   "cell_type": "markdown",
   "id": "5f0ed550",
   "metadata": {},
   "source": [
    "**So, which approach should we use? Or is there a better way? Hmmm...**"
   ]
  }
 ],
 "metadata": {
  "kernelspec": {
   "display_name": "Python 3",
   "language": "python",
   "name": "python3"
  },
  "language_info": {
   "codemirror_mode": {
    "name": "ipython",
    "version": 3
   },
   "file_extension": ".py",
   "mimetype": "text/x-python",
   "name": "python",
   "nbconvert_exporter": "python",
   "pygments_lexer": "ipython3",
   "version": "3.8.8"
  }
 },
 "nbformat": 4,
 "nbformat_minor": 5
}
