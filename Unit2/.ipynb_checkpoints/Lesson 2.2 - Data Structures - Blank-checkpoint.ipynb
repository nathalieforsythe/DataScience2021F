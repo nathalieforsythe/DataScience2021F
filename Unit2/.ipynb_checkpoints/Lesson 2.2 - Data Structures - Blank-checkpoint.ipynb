{
 "cells": [
  {
   "cell_type": "markdown",
   "id": "a3a28689",
   "metadata": {},
   "source": [
    "# Data Science Lesson - Data Structures\n",
    "---\n",
    "**Question: How do we represent our Stick Figure Google Sheet (table) in a Python variable?**\n",
    "\n",
    "### List of Dictionaries\n",
    "\n",
    "Represent each person as a dictionary, and store them all in a list. Output the list to verify."
   ]
  },
  {
   "cell_type": "code",
   "execution_count": null,
   "id": "46d98ee3",
   "metadata": {},
   "outputs": [],
   "source": []
  },
  {
   "cell_type": "markdown",
   "id": "9dee2d16",
   "metadata": {},
   "source": [
    "What is the mean height of people in our list? First, use pure Python functions to calculate this, and output to verify. First, get the heights:"
   ]
  },
  {
   "cell_type": "code",
   "execution_count": null,
   "id": "3525da44",
   "metadata": {},
   "outputs": [],
   "source": []
  },
  {
   "cell_type": "markdown",
   "id": "b4a0df31",
   "metadata": {},
   "source": [
    "Next, calculate the mean:"
   ]
  },
  {
   "cell_type": "code",
   "execution_count": null,
   "id": "5959d6e7",
   "metadata": {},
   "outputs": [],
   "source": []
  },
  {
   "cell_type": "markdown",
   "id": "bd6592b4",
   "metadata": {},
   "source": [
    "Now, import numpy (as np) and use its mean function to find the mean of the heights list directly."
   ]
  },
  {
   "cell_type": "code",
   "execution_count": null,
   "id": "dac4edc5",
   "metadata": {},
   "outputs": [],
   "source": []
  },
  {
   "cell_type": "markdown",
   "id": "25f72f93",
   "metadata": {},
   "source": [
    "## Dictionary of Lists\n",
    "\n",
    "Using a dictionary and key/value pairs, represent each attribute (column) of a person as a key and all the values of each attribute as a list. I.e., a dictionary of lists. Output the dict to verify."
   ]
  },
  {
   "cell_type": "code",
   "execution_count": null,
   "id": "d5dca641",
   "metadata": {},
   "outputs": [],
   "source": []
  },
  {
   "cell_type": "markdown",
   "id": "846bdc27",
   "metadata": {},
   "source": [
    "Now use NumPy to get the mean in one statement."
   ]
  },
  {
   "cell_type": "code",
   "execution_count": null,
   "id": "898bb3cd",
   "metadata": {},
   "outputs": [],
   "source": []
  },
  {
   "cell_type": "markdown",
   "id": "5f0ed550",
   "metadata": {},
   "source": [
    "**So, which approach should we use? Or is there a better way? Hmmm...**"
   ]
  }
 ],
 "metadata": {
  "kernelspec": {
   "display_name": "Python 3",
   "language": "python",
   "name": "python3"
  },
  "language_info": {
   "codemirror_mode": {
    "name": "ipython",
    "version": 3
   },
   "file_extension": ".py",
   "mimetype": "text/x-python",
   "name": "python",
   "nbconvert_exporter": "python",
   "pygments_lexer": "ipython3",
   "version": "3.8.8"
  }
 },
 "nbformat": 4,
 "nbformat_minor": 5
}
