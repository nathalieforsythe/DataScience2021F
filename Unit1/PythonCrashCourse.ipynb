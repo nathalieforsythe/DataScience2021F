{
 "cells": [
  {
   "cell_type": "markdown",
   "id": "83670521",
   "metadata": {},
   "source": [
    "# Python Crash Course\n",
    "\n",
    "This is my cheat sheet.\n",
    "\n",
    "Here is my Hello World:"
   ]
  },
  {
   "cell_type": "code",
   "execution_count": 1,
   "id": "c8c4fe40",
   "metadata": {},
   "outputs": [
    {
     "name": "stdout",
     "output_type": "stream",
     "text": [
      "Hello world\n"
     ]
    }
   ],
   "source": [
    "print('Hello world')"
   ]
  },
  {
   "cell_type": "markdown",
   "id": "f84eadcd",
   "metadata": {},
   "source": [
    "## Variables"
   ]
  },
  {
   "cell_type": "code",
   "execution_count": 2,
   "id": "ed76dcaa",
   "metadata": {},
   "outputs": [
    {
     "name": "stdout",
     "output_type": "stream",
     "text": [
      "7\n",
      "Good morning!\n"
     ]
    }
   ],
   "source": [
    "x = 7\n",
    "print(x)\n",
    "\n",
    "y = 'Good morning!'\n",
    "print(y)\n",
    "\n",
    "# same as JavaScript - variables can be numbers or strings"
   ]
  },
  {
   "cell_type": "markdown",
   "id": "3b7f0e65",
   "metadata": {},
   "source": [
    "## Comments"
   ]
  },
  {
   "cell_type": "code",
   "execution_count": 3,
   "id": "206bd7aa",
   "metadata": {},
   "outputs": [],
   "source": [
    "# This is how to do a comment"
   ]
  },
  {
   "cell_type": "code",
   "execution_count": 4,
   "id": "a31d8085",
   "metadata": {},
   "outputs": [
    {
     "data": {
      "text/plain": [
       "'\\nThis is a \\nmulti-line\\ncomment.\\n'"
      ]
     },
     "execution_count": 4,
     "metadata": {},
     "output_type": "execute_result"
    }
   ],
   "source": [
    "\"\"\"\n",
    "This is a \n",
    "multi-line\n",
    "comment.\n",
    "\"\"\""
   ]
  },
  {
   "cell_type": "markdown",
   "id": "b1781be0",
   "metadata": {},
   "source": [
    "## Casting and Concatenation"
   ]
  },
  {
   "cell_type": "code",
   "execution_count": 5,
   "id": "92e9133e",
   "metadata": {},
   "outputs": [
    {
     "name": "stdout",
     "output_type": "stream",
     "text": [
      "Good morning! is 7\n"
     ]
    }
   ],
   "source": [
    "print(y + ' is ' + str(x))\n",
    "\n",
    "# cannot use strings and numbers in the same statement - must convert numbers into strings"
   ]
  },
  {
   "cell_type": "code",
   "execution_count": 6,
   "id": "4e284891",
   "metadata": {
    "scrolled": false
   },
   "outputs": [
    {
     "name": "stdout",
     "output_type": "stream",
     "text": [
      "<class 'str'>\n"
     ]
    }
   ],
   "source": [
    "print(type(y))"
   ]
  },
  {
   "cell_type": "markdown",
   "id": "6f425931",
   "metadata": {},
   "source": [
    "Defining multiple variables in one line"
   ]
  },
  {
   "cell_type": "code",
   "execution_count": 7,
   "id": "00617a7f",
   "metadata": {},
   "outputs": [
    {
     "name": "stdout",
     "output_type": "stream",
     "text": [
      "red 12 purple\n",
      "red\n",
      "12\n",
      "purple\n"
     ]
    }
   ],
   "source": [
    "a, b, c = 'red', 12, 'purple'\n",
    "\n",
    "print(a, b, c)\n",
    "print(a)\n",
    "print(b)\n",
    "print(c)"
   ]
  },
  {
   "cell_type": "markdown",
   "id": "1131e3a5",
   "metadata": {},
   "source": [
    "Setting multiple variables to the same value"
   ]
  },
  {
   "cell_type": "code",
   "execution_count": 8,
   "id": "240adb54",
   "metadata": {
    "scrolled": true
   },
   "outputs": [
    {
     "name": "stdout",
     "output_type": "stream",
     "text": [
      "orange\n",
      "orange\n",
      "orange\n"
     ]
    }
   ],
   "source": [
    "d = e = f = 'orange'\n",
    "\n",
    "print(d)\n",
    "print(e)\n",
    "print(f)"
   ]
  },
  {
   "cell_type": "markdown",
   "id": "a1d870aa",
   "metadata": {},
   "source": [
    "## Cast Float To Int"
   ]
  },
  {
   "cell_type": "code",
   "execution_count": 9,
   "id": "e4031b4f",
   "metadata": {},
   "outputs": [
    {
     "name": "stdout",
     "output_type": "stream",
     "text": [
      "5.7\n"
     ]
    }
   ],
   "source": [
    "g = 5.7\n",
    "print(g)"
   ]
  },
  {
   "cell_type": "markdown",
   "id": "7aa40852",
   "metadata": {},
   "source": [
    "Turning a number into an integer"
   ]
  },
  {
   "cell_type": "code",
   "execution_count": 10,
   "id": "e01dcced",
   "metadata": {},
   "outputs": [
    {
     "data": {
      "text/plain": [
       "5"
      ]
     },
     "execution_count": 10,
     "metadata": {},
     "output_type": "execute_result"
    }
   ],
   "source": [
    "int(g) "
   ]
  },
  {
   "cell_type": "code",
   "execution_count": 11,
   "id": "7707af7a",
   "metadata": {},
   "outputs": [
    {
     "name": "stdout",
     "output_type": "stream",
     "text": [
      "5.7\n"
     ]
    }
   ],
   "source": [
    "m = int(g)\n",
    "print(g)"
   ]
  },
  {
   "cell_type": "markdown",
   "id": "c1f2042e",
   "metadata": {},
   "source": [
    "## Strings"
   ]
  },
  {
   "cell_type": "code",
   "execution_count": 12,
   "id": "f5b79c45",
   "metadata": {},
   "outputs": [
    {
     "name": "stdout",
     "output_type": "stream",
     "text": [
      "Good morning everyone\n",
      "how has your day been?\n",
      "I am tired\n"
     ]
    }
   ],
   "source": [
    "h = \"\"\"Good morning everyone\n",
    "how has your day been?\n",
    "I am tired\"\"\"\n",
    "print(h)"
   ]
  },
  {
   "cell_type": "markdown",
   "id": "9ad7cd71",
   "metadata": {},
   "source": [
    "## Slicing Strings"
   ]
  },
  {
   "cell_type": "code",
   "execution_count": 13,
   "id": "b9d3ee72",
   "metadata": {},
   "outputs": [
    {
     "name": "stdout",
     "output_type": "stream",
     "text": [
      "Good\n"
     ]
    }
   ],
   "source": [
    "firstWord = h[:4]\n",
    "print(firstWord)"
   ]
  },
  {
   "cell_type": "code",
   "execution_count": 14,
   "id": "2b98c4d4",
   "metadata": {},
   "outputs": [
    {
     "name": "stdout",
     "output_type": "stream",
     "text": [
      "GOOD MORNING EVERYONE\n",
      "HOW HAS YOUR DAY BEEN?\n",
      "I AM TIRED\n"
     ]
    }
   ],
   "source": [
    "print(h.upper())\n",
    "# h.upper does not change h - it only changes it for that instance"
   ]
  },
  {
   "cell_type": "code",
   "execution_count": 15,
   "id": "77d49aa4",
   "metadata": {},
   "outputs": [
    {
     "name": "stdout",
     "output_type": "stream",
     "text": [
      "Good morning everyone\n",
      "how has your day been?\n",
      "I am tired\n"
     ]
    }
   ],
   "source": [
    "print(h)"
   ]
  },
  {
   "cell_type": "markdown",
   "id": "a943ab31",
   "metadata": {},
   "source": [
    "## Formatting Strings"
   ]
  },
  {
   "cell_type": "code",
   "execution_count": 16,
   "id": "b85919b1",
   "metadata": {},
   "outputs": [
    {
     "name": "stdout",
     "output_type": "stream",
     "text": [
      "My name is Nathalie, and I am 17\n"
     ]
    }
   ],
   "source": [
    "age = 17\n",
    "j = \"My name is Nathalie, and I am {}\"\n",
    "print(j.format(age))"
   ]
  },
  {
   "cell_type": "markdown",
   "id": "b2d7d708",
   "metadata": {},
   "source": [
    "## Escape Characters"
   ]
  },
  {
   "cell_type": "code",
   "execution_count": 17,
   "id": "bd22cfe4",
   "metadata": {},
   "outputs": [
    {
     "name": "stdout",
     "output_type": "stream",
     "text": [
      "This is how to use 'quotations' in quotations\n"
     ]
    }
   ],
   "source": [
    "s = 'This is how to use \\'quotations\\' in quotations'\n",
    "print(s)"
   ]
  },
  {
   "cell_type": "markdown",
   "id": "6be0b6d5",
   "metadata": {},
   "source": [
    "## String Methods"
   ]
  },
  {
   "cell_type": "code",
   "execution_count": 18,
   "id": "86c18ec1",
   "metadata": {},
   "outputs": [
    {
     "name": "stdout",
     "output_type": "stream",
     "text": [
      "11\n"
     ]
    }
   ],
   "source": [
    "# len\n",
    "\n",
    "txt = 'Hello World'\n",
    "print(len(txt))"
   ]
  },
  {
   "cell_type": "code",
   "execution_count": 19,
   "id": "29da6416",
   "metadata": {
    "scrolled": true
   },
   "outputs": [
    {
     "name": "stdout",
     "output_type": "stream",
     "text": [
      "H\n"
     ]
    }
   ],
   "source": [
    "# first letter\n",
    "\n",
    "x = txt[0]\n",
    "print(x)"
   ]
  },
  {
   "cell_type": "code",
   "execution_count": 20,
   "id": "1d69f8a6",
   "metadata": {},
   "outputs": [
    {
     "name": "stdout",
     "output_type": "stream",
     "text": [
      "llo\n"
     ]
    }
   ],
   "source": [
    "x = txt[2:5]\n",
    "print(x)"
   ]
  },
  {
   "cell_type": "code",
   "execution_count": 21,
   "id": "91320ef2",
   "metadata": {},
   "outputs": [
    {
     "name": "stdout",
     "output_type": "stream",
     "text": [
      "Hello World\n"
     ]
    }
   ],
   "source": [
    "# remove white space\n",
    "\n",
    "txt = ' Hello World '\n",
    "x = txt.strip()\n",
    "print(x)"
   ]
  },
  {
   "cell_type": "code",
   "execution_count": 22,
   "id": "df3a0929",
   "metadata": {},
   "outputs": [
    {
     "name": "stdout",
     "output_type": "stream",
     "text": [
      "HELLO WORLD\n"
     ]
    }
   ],
   "source": [
    "# upper\n",
    "\n",
    "txt = 'Hello World'\n",
    "txt = txt.upper()\n",
    "print(txt)"
   ]
  },
  {
   "cell_type": "code",
   "execution_count": 23,
   "id": "6a3d505e",
   "metadata": {},
   "outputs": [
    {
     "name": "stdout",
     "output_type": "stream",
     "text": [
      "hello world\n"
     ]
    }
   ],
   "source": [
    "# lower\n",
    "\n",
    "txt = 'Hello World'\n",
    "txt = txt.lower()\n",
    "print(txt)"
   ]
  },
  {
   "cell_type": "code",
   "execution_count": 24,
   "id": "9d4b1b60",
   "metadata": {},
   "outputs": [
    {
     "name": "stdout",
     "output_type": "stream",
     "text": [
      "Jello World\n"
     ]
    }
   ],
   "source": [
    "# replace\n",
    "\n",
    "txt = \"Hello World\"\n",
    "txt = txt.replace('H', 'J')\n",
    "print(txt)"
   ]
  },
  {
   "cell_type": "code",
   "execution_count": 25,
   "id": "74d9283b",
   "metadata": {},
   "outputs": [
    {
     "name": "stdout",
     "output_type": "stream",
     "text": [
      "My name is Nathalie, and I am 17\n"
     ]
    }
   ],
   "source": [
    "# format\n",
    "\n",
    "age = 17\n",
    "txt = 'My name is Nathalie, and I am {}'\n",
    "print(txt.format(age))"
   ]
  },
  {
   "cell_type": "markdown",
   "id": "4db37b78",
   "metadata": {},
   "source": [
    "## Operators"
   ]
  },
  {
   "cell_type": "code",
   "execution_count": 26,
   "id": "5dde3ca7",
   "metadata": {},
   "outputs": [
    {
     "name": "stdout",
     "output_type": "stream",
     "text": [
      "False\n"
     ]
    }
   ],
   "source": [
    "# floor division - divides and rounds down\n",
    "\n",
    "l = 24\n",
    "m = 7\n",
    "n = l//m\n",
    "print(n == 3.4)"
   ]
  },
  {
   "cell_type": "markdown",
   "id": "a3d687b4",
   "metadata": {},
   "source": [
    "## Collections"
   ]
  },
  {
   "cell_type": "code",
   "execution_count": 27,
   "id": "d2fc96b6",
   "metadata": {},
   "outputs": [
    {
     "name": "stdout",
     "output_type": "stream",
     "text": [
      "['parrot', 'treasure map', 'sword', 'cannon']\n"
     ]
    }
   ],
   "source": [
    "# List (most similar to arrays) - can use strings, numbers, Booleans, etc.\n",
    "\n",
    "pirateThings = ['parrot', 'treasure map', 'sword', 'cannon']\n",
    "print(pirateThings)"
   ]
  },
  {
   "cell_type": "code",
   "execution_count": 28,
   "id": "cde9392b",
   "metadata": {},
   "outputs": [
    {
     "name": "stdout",
     "output_type": "stream",
     "text": [
      "sword\n"
     ]
    }
   ],
   "source": [
    "print(pirateThings[2])"
   ]
  },
  {
   "cell_type": "code",
   "execution_count": 29,
   "id": "f1be6019",
   "metadata": {},
   "outputs": [
    {
     "name": "stdout",
     "output_type": "stream",
     "text": [
      "['parrot', 'hook', 'sword', 'cannon']\n"
     ]
    }
   ],
   "source": [
    "pirateThings[1] = 'hook'\n",
    "print(pirateThings)"
   ]
  },
  {
   "cell_type": "code",
   "execution_count": 30,
   "id": "2921dcb8",
   "metadata": {},
   "outputs": [
    {
     "name": "stdout",
     "output_type": "stream",
     "text": [
      "['parrot', 'hook', 'sword']\n"
     ]
    }
   ],
   "source": [
    "pirateThings.remove('cannon')\n",
    "print(pirateThings)"
   ]
  },
  {
   "cell_type": "code",
   "execution_count": 31,
   "id": "26775eea",
   "metadata": {},
   "outputs": [
    {
     "name": "stdout",
     "output_type": "stream",
     "text": [
      "['parrot', 'sword']\n"
     ]
    }
   ],
   "source": [
    "pirateThings.pop(1)\n",
    "print(pirateThings)"
   ]
  },
  {
   "cell_type": "code",
   "execution_count": 32,
   "id": "ba43103a",
   "metadata": {},
   "outputs": [
    {
     "name": "stdout",
     "output_type": "stream",
     "text": [
      "parrot\n",
      "sword\n"
     ]
    }
   ],
   "source": [
    "for thing in pirateThings:\n",
    "    print(thing)"
   ]
  },
  {
   "cell_type": "code",
   "execution_count": 34,
   "id": "52f693c7",
   "metadata": {},
   "outputs": [
    {
     "name": "stdout",
     "output_type": "stream",
     "text": [
      "parrot\n",
      "sword\n"
     ]
    }
   ],
   "source": [
    "for i in range(len(pirateThings)):\n",
    "    print(pirateThings[i])"
   ]
  },
  {
   "cell_type": "code",
   "execution_count": null,
   "id": "74773a67",
   "metadata": {},
   "outputs": [],
   "source": [
    "# Tuple - cannot be changed after it is created\n",
    "\n",
    "tuple = ('octopus', 'plankton', 'squid')"
   ]
  },
  {
   "cell_type": "code",
   "execution_count": 35,
   "id": "ac98734c",
   "metadata": {},
   "outputs": [],
   "source": [
    "# Set - cannot have duplicates, unordered, cannot change previous items but can add new items\n",
    "\n",
    "set = {'red', 'orange', 'yellow'}"
   ]
  },
  {
   "cell_type": "code",
   "execution_count": 42,
   "id": "afd71ec8",
   "metadata": {},
   "outputs": [
    {
     "ename": "SyntaxError",
     "evalue": "invalid syntax (772071247.py, line 6)",
     "output_type": "error",
     "traceback": [
      "\u001b[0;36m  File \u001b[0;32m\"/var/folders/12/0n56w92977g8ww6l80qswwc00000gn/T/ipykernel_62503/772071247.py\"\u001b[0;36m, line \u001b[0;32m6\u001b[0m\n\u001b[0;31m    'classes' = ['Envi sci', 'Calc', 'Feminist lit', 'Spanish', 'Structural design', 'Data science']\u001b[0m\n\u001b[0m              ^\u001b[0m\n\u001b[0;31mSyntaxError\u001b[0m\u001b[0;31m:\u001b[0m invalid syntax\n"
     ]
    }
   ],
   "source": [
    "# Dictionary (similar to objects in JavaScript)\n",
    "\n",
    "Nathalie = {\n",
    "    'age' : 17,\n",
    "    'grade' : 'senior'\n",
    "    'classes' = ['Envi sci', 'Calc', 'Feminist lit', 'Spanish', 'Structural design', 'Data science']\n",
    "}"
   ]
  },
  {
   "cell_type": "markdown",
   "id": "eb9d98c1",
   "metadata": {},
   "source": [
    "## Loops"
   ]
  },
  {
   "cell_type": "code",
   "execution_count": 36,
   "id": "1a924780",
   "metadata": {
    "scrolled": true
   },
   "outputs": [
    {
     "name": "stdout",
     "output_type": "stream",
     "text": [
      "0\n",
      "1\n",
      "2\n",
      "3\n",
      "4\n",
      "5\n",
      "6\n",
      "7\n",
      "8\n",
      "9\n"
     ]
    }
   ],
   "source": [
    "for i in range(10):\n",
    "    print(i)"
   ]
  }
 ],
 "metadata": {
  "kernelspec": {
   "display_name": "Python 3 (ipykernel)",
   "language": "python",
   "name": "python3"
  },
  "language_info": {
   "codemirror_mode": {
    "name": "ipython",
    "version": 3
   },
   "file_extension": ".py",
   "mimetype": "text/x-python",
   "name": "python",
   "nbconvert_exporter": "python",
   "pygments_lexer": "ipython3",
   "version": "3.9.7"
  }
 },
 "nbformat": 4,
 "nbformat_minor": 5
}
