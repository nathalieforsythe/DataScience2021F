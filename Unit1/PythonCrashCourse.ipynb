{
 "cells": [
  {
   "cell_type": "markdown",
   "id": "90ae8494",
   "metadata": {},
   "source": [
    "# Python Crash Course\n",
    "\n",
    "This is my cheat sheet.\n",
    "\n",
    "Here is my Hello World:"
   ]
  },
  {
   "cell_type": "code",
   "execution_count": 39,
   "id": "c15d2459",
   "metadata": {},
   "outputs": [
    {
     "name": "stdout",
     "output_type": "stream",
     "text": [
      "Hello world\n"
     ]
    }
   ],
   "source": [
    "print('Hello world')"
   ]
  },
  {
   "cell_type": "markdown",
   "id": "77bc600f",
   "metadata": {},
   "source": [
    "## Variables"
   ]
  },
  {
   "cell_type": "code",
   "execution_count": 40,
   "id": "97a7c7af",
   "metadata": {},
   "outputs": [
    {
     "name": "stdout",
     "output_type": "stream",
     "text": [
      "17\n",
      "Good morning\n"
     ]
    }
   ],
   "source": [
    "x = 17\n",
    "print(x)\n",
    "\n",
    "y = 'Good morning'\n",
    "print(y)"
   ]
  },
  {
   "cell_type": "markdown",
   "id": "d9353155",
   "metadata": {},
   "source": [
    "## Comments"
   ]
  },
  {
   "cell_type": "code",
   "execution_count": 41,
   "id": "5968edf4",
   "metadata": {},
   "outputs": [],
   "source": [
    "# This is how to do a comment"
   ]
  },
  {
   "cell_type": "code",
   "execution_count": 42,
   "id": "da67229c",
   "metadata": {},
   "outputs": [
    {
     "data": {
      "text/plain": [
       "'\\nThis is a \\nmulti-line\\ncomment.\\n'"
      ]
     },
     "execution_count": 42,
     "metadata": {},
     "output_type": "execute_result"
    }
   ],
   "source": [
    "\"\"\"\n",
    "This is a \n",
    "multi-line\n",
    "comment.\n",
    "\"\"\""
   ]
  },
  {
   "cell_type": "markdown",
   "id": "68ba98aa",
   "metadata": {},
   "source": [
    "## Casting and Concatenation"
   ]
  },
  {
   "cell_type": "code",
   "execution_count": 43,
   "id": "f3124ada",
   "metadata": {},
   "outputs": [
    {
     "name": "stdout",
     "output_type": "stream",
     "text": [
      "Good morning is 17\n"
     ]
    }
   ],
   "source": [
    "print(y + ' is ' + str(x))"
   ]
  },
  {
   "cell_type": "code",
   "execution_count": 44,
   "id": "65bc5b0b",
   "metadata": {},
   "outputs": [
    {
     "name": "stdout",
     "output_type": "stream",
     "text": [
      "<class 'str'>\n"
     ]
    }
   ],
   "source": [
    "print(type(y))"
   ]
  },
  {
   "cell_type": "code",
   "execution_count": 45,
   "id": "26a2eb4d",
   "metadata": {},
   "outputs": [
    {
     "name": "stdout",
     "output_type": "stream",
     "text": [
      "red 12 purple\n",
      "red\n",
      "12\n",
      "purple\n"
     ]
    }
   ],
   "source": [
    "a, b, c = 'red', 12, 'purple'\n",
    "\n",
    "print(a, b, c)\n",
    "print(a)\n",
    "print(b)\n",
    "print(c)"
   ]
  },
  {
   "cell_type": "code",
   "execution_count": 46,
   "id": "f81c2d7f",
   "metadata": {
    "scrolled": true
   },
   "outputs": [
    {
     "name": "stdout",
     "output_type": "stream",
     "text": [
      "orange\n",
      "orange\n",
      "orange\n"
     ]
    }
   ],
   "source": [
    "d = e = f = 'orange'\n",
    "\n",
    "print(d)\n",
    "print(e)\n",
    "print(f)"
   ]
  },
  {
   "cell_type": "markdown",
   "id": "b4d648c7",
   "metadata": {},
   "source": [
    "## Cast Float To Int"
   ]
  },
  {
   "cell_type": "code",
   "execution_count": 47,
   "id": "a3b45c15",
   "metadata": {},
   "outputs": [
    {
     "name": "stdout",
     "output_type": "stream",
     "text": [
      "5.7\n"
     ]
    }
   ],
   "source": [
    "m = 5.7\n",
    "print(m)"
   ]
  },
  {
   "cell_type": "code",
   "execution_count": 48,
   "id": "14afb25d",
   "metadata": {},
   "outputs": [
    {
     "data": {
      "text/plain": [
       "5"
      ]
     },
     "execution_count": 48,
     "metadata": {},
     "output_type": "execute_result"
    }
   ],
   "source": [
    "int(m)"
   ]
  },
  {
   "cell_type": "code",
   "execution_count": 49,
   "id": "04fd561e",
   "metadata": {},
   "outputs": [
    {
     "name": "stdout",
     "output_type": "stream",
     "text": [
      "5\n"
     ]
    }
   ],
   "source": [
    "m = int(m)\n",
    "print(m)"
   ]
  },
  {
   "cell_type": "markdown",
   "id": "80b01c5e",
   "metadata": {},
   "source": [
    "## Strings"
   ]
  },
  {
   "cell_type": "code",
   "execution_count": 50,
   "id": "abcceb40",
   "metadata": {},
   "outputs": [
    {
     "name": "stdout",
     "output_type": "stream",
     "text": [
      "Good morning everyone\n",
      "how has your day been?\n",
      "I am tired\n"
     ]
    }
   ],
   "source": [
    "q = \"\"\"Good morning everyone\n",
    "how has your day been?\n",
    "I am tired\"\"\"\n",
    "print(q)"
   ]
  },
  {
   "cell_type": "code",
   "execution_count": null,
   "id": "5b857109",
   "metadata": {},
   "outputs": [],
   "source": []
  }
 ],
 "metadata": {
  "kernelspec": {
   "display_name": "Python 3 (ipykernel)",
   "language": "python",
   "name": "python3"
  },
  "language_info": {
   "codemirror_mode": {
    "name": "ipython",
    "version": 3
   },
   "file_extension": ".py",
   "mimetype": "text/x-python",
   "name": "python",
   "nbconvert_exporter": "python",
   "pygments_lexer": "ipython3",
   "version": "3.9.7"
  }
 },
 "nbformat": 4,
 "nbformat_minor": 5
}
