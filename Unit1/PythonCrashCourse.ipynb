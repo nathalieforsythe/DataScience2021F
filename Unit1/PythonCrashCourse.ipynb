{
 "cells": [
  {
   "cell_type": "markdown",
   "id": "83670521",
   "metadata": {},
   "source": [
    "# Python Crash Course\n",
    "\n",
    "This is my cheat sheet.\n",
    "\n",
    "Here is my Hello World:"
   ]
  },
  {
   "cell_type": "code",
   "execution_count": 39,
   "id": "c8c4fe40",
   "metadata": {},
   "outputs": [
    {
     "name": "stdout",
     "output_type": "stream",
     "text": [
      "Hello world\n"
     ]
    }
   ],
   "source": [
    "print('Hello world')"
   ]
  },
  {
   "cell_type": "markdown",
   "id": "f84eadcd",
   "metadata": {},
   "source": [
    "## Variables"
   ]
  },
  {
   "cell_type": "code",
   "execution_count": 3,
   "id": "ed76dcaa",
   "metadata": {},
   "outputs": [
    {
     "name": "stdout",
     "output_type": "stream",
     "text": [
      "7\n",
      "Good morning!\n"
     ]
    }
   ],
   "source": [
    "x = 7\n",
    "print(x)\n",
    "\n",
    "y = 'Good morning!'\n",
    "print(y)\n",
    "\n",
    "# same as JavaScript - variables can be numbers or strings"
   ]
  },
  {
   "cell_type": "markdown",
   "id": "3b7f0e65",
   "metadata": {},
   "source": [
    "## Comments"
   ]
  },
  {
   "cell_type": "code",
   "execution_count": 41,
   "id": "206bd7aa",
   "metadata": {},
   "outputs": [],
   "source": [
    "# This is how to do a comment"
   ]
  },
  {
   "cell_type": "code",
   "execution_count": 42,
   "id": "a31d8085",
   "metadata": {},
   "outputs": [
    {
     "data": {
      "text/plain": [
       "'\\nThis is a \\nmulti-line\\ncomment.\\n'"
      ]
     },
     "execution_count": 42,
     "metadata": {},
     "output_type": "execute_result"
    }
   ],
   "source": [
    "\"\"\"\n",
    "This is a \n",
    "multi-line\n",
    "comment.\n",
    "\"\"\""
   ]
  },
  {
   "cell_type": "markdown",
   "id": "b1781be0",
   "metadata": {},
   "source": [
    "## Casting and Concatenation"
   ]
  },
  {
   "cell_type": "code",
   "execution_count": 7,
   "id": "92e9133e",
   "metadata": {},
   "outputs": [
    {
     "name": "stdout",
     "output_type": "stream",
     "text": [
      "Good morning! is 7\n"
     ]
    }
   ],
   "source": [
    "print(y + ' is ' + str(x))\n",
    "\n",
    "# cannot use strings and numbers in the same statement - must convert numbers into strings"
   ]
  },
  {
   "cell_type": "code",
   "execution_count": 44,
   "id": "4e284891",
   "metadata": {
    "scrolled": false
   },
   "outputs": [
    {
     "name": "stdout",
     "output_type": "stream",
     "text": [
      "<class 'str'>\n"
     ]
    }
   ],
   "source": [
    "print(type(y))"
   ]
  },
  {
   "cell_type": "markdown",
   "id": "02d92dc2",
   "metadata": {},
   "source": [
    "Defining multiple variables in one line"
   ]
  },
  {
   "cell_type": "code",
   "execution_count": 45,
   "id": "00617a7f",
   "metadata": {},
   "outputs": [
    {
     "name": "stdout",
     "output_type": "stream",
     "text": [
      "red 12 purple\n",
      "red\n",
      "12\n",
      "purple\n"
     ]
    }
   ],
   "source": [
    "a, b, c = 'red', 12, 'purple'\n",
    "\n",
    "print(a, b, c)\n",
    "print(a)\n",
    "print(b)\n",
    "print(c)"
   ]
  },
  {
   "cell_type": "markdown",
   "id": "e1913313",
   "metadata": {},
   "source": [
    "Setting multiple variables to the same value"
   ]
  },
  {
   "cell_type": "code",
   "execution_count": 5,
   "id": "240adb54",
   "metadata": {
    "scrolled": true
   },
   "outputs": [
    {
     "name": "stdout",
     "output_type": "stream",
     "text": [
      "orange\n",
      "orange\n",
      "orange\n"
     ]
    }
   ],
   "source": [
    "d = e = f = 'orange'\n",
    "\n",
    "print(d)\n",
    "print(e)\n",
    "print(f)"
   ]
  },
  {
   "cell_type": "markdown",
   "id": "a1d870aa",
   "metadata": {},
   "source": [
    "## Cast Float To Int"
   ]
  },
  {
   "cell_type": "code",
   "execution_count": 47,
   "id": "e4031b4f",
   "metadata": {},
   "outputs": [
    {
     "name": "stdout",
     "output_type": "stream",
     "text": [
      "5.7\n"
     ]
    }
   ],
   "source": [
    "g = 5.7\n",
    "print(g)"
   ]
  },
  {
   "cell_type": "markdown",
   "id": "cc30bebe",
   "metadata": {},
   "source": [
    "Turning a number into an "
   ]
  },
  {
   "cell_type": "code",
   "execution_count": 48,
   "id": "e01dcced",
   "metadata": {},
   "outputs": [
    {
     "data": {
      "text/plain": [
       "5"
      ]
     },
     "execution_count": 48,
     "metadata": {},
     "output_type": "execute_result"
    }
   ],
   "source": [
    "int(g) "
   ]
  },
  {
   "cell_type": "code",
   "execution_count": 49,
   "id": "7707af7a",
   "metadata": {},
   "outputs": [
    {
     "name": "stdout",
     "output_type": "stream",
     "text": [
      "5\n"
     ]
    }
   ],
   "source": [
    "m = int(g)\n",
    "print(g)"
   ]
  },
  {
   "cell_type": "markdown",
   "id": "c1f2042e",
   "metadata": {},
   "source": [
    "## Strings"
   ]
  },
  {
   "cell_type": "code",
   "execution_count": 50,
   "id": "f5b79c45",
   "metadata": {},
   "outputs": [
    {
     "name": "stdout",
     "output_type": "stream",
     "text": [
      "Good morning everyone\n",
      "how has your day been?\n",
      "I am tired\n"
     ]
    }
   ],
   "source": [
    "h = \"\"\"Good morning everyone\n",
    "how has your day been?\n",
    "I am tired\"\"\"\n",
    "print(h)"
   ]
  },
  {
   "cell_type": "markdown",
   "id": "9ad7cd71",
   "metadata": {},
   "source": [
    "## Slicing Strings"
   ]
  },
  {
   "cell_type": "code",
   "execution_count": 52,
   "id": "b9d3ee72",
   "metadata": {},
   "outputs": [
    {
     "name": "stdout",
     "output_type": "stream",
     "text": [
      "Good\n"
     ]
    }
   ],
   "source": [
    "firstWord = h[:4]\n",
    "print(firstWord)"
   ]
  },
  {
   "cell_type": "code",
   "execution_count": 53,
   "id": "2b98c4d4",
   "metadata": {},
   "outputs": [
    {
     "name": "stdout",
     "output_type": "stream",
     "text": [
      "GOOD MORNING EVERYONE\n",
      "HOW HAS YOUR DAY BEEN?\n",
      "I AM TIRED\n"
     ]
    }
   ],
   "source": [
    "print(h.upper())\n",
    "# h.upper does not change h - it only changes it for that instance"
   ]
  },
  {
   "cell_type": "code",
   "execution_count": 55,
   "id": "77d49aa4",
   "metadata": {},
   "outputs": [
    {
     "name": "stdout",
     "output_type": "stream",
     "text": [
      "Good morning everyone\n",
      "how has your day been?\n",
      "I am tired\n"
     ]
    }
   ],
   "source": [
    "print(h)"
   ]
  },
  {
   "cell_type": "markdown",
   "id": "a943ab31",
   "metadata": {},
   "source": [
    "## Formatting Strings"
   ]
  },
  {
   "cell_type": "code",
   "execution_count": 57,
   "id": "b85919b1",
   "metadata": {},
   "outputs": [
    {
     "name": "stdout",
     "output_type": "stream",
     "text": [
      "My name is Nathalie, and I am 17\n"
     ]
    }
   ],
   "source": [
    "age = 17\n",
    "txt = \"My name is Nathalie, and I am {}\"\n",
    "print(txt.format(age))"
   ]
  },
  {
   "cell_type": "markdown",
   "id": "b2d7d708",
   "metadata": {},
   "source": [
    "## Escape Characters"
   ]
  },
  {
   "cell_type": "code",
   "execution_count": 58,
   "id": "bd22cfe4",
   "metadata": {},
   "outputs": [
    {
     "name": "stdout",
     "output_type": "stream",
     "text": [
      "This is how to use 'quotations' in quotations\n"
     ]
    }
   ],
   "source": [
    "s = 'This is how to use \\'quotations\\' in quotations'\n",
    "print(s)"
   ]
  },
  {
   "cell_type": "code",
   "execution_count": null,
   "id": "7f96e8b4",
   "metadata": {},
   "outputs": [],
   "source": []
  }
 ],
 "metadata": {
  "kernelspec": {
   "display_name": "Python 3 (ipykernel)",
   "language": "python",
   "name": "python3"
  },
  "language_info": {
   "codemirror_mode": {
    "name": "ipython",
    "version": 3
   },
   "file_extension": ".py",
   "mimetype": "text/x-python",
   "name": "python",
   "nbconvert_exporter": "python",
   "pygments_lexer": "ipython3",
   "version": "3.9.7"
  }
 },
 "nbformat": 4,
 "nbformat_minor": 5
}
